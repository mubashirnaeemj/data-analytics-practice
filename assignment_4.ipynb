{
 "cells": [
  {
   "cell_type": "markdown",
   "id": "92077c74-80f0-4a60-87b3-fdcae547e075",
   "metadata": {},
   "source": [
    "## 4-1. Guest List: If you could invite anyone, living or deceased, to dinner, who would you invite? Make a list that includes at least three people you’d like to invite to dinner. Then use your list to print a message to each person, inviting them to dinner "
   ]
  },
  {
   "cell_type": "code",
   "execution_count": 9,
   "id": "e2919e81-a9df-4c5c-a6d8-6e27c63e59ad",
   "metadata": {},
   "outputs": [
    {
     "name": "stdout",
     "output_type": "stream",
     "text": [
      "mubashir You are invited\n",
      "raqib You are invited\n",
      "sharjeel You are invited\n"
     ]
    }
   ],
   "source": [
    "invitation = ['mubashir','raqib','sharjeel']\n",
    "print(invitation[0],\"You are invited\")\n",
    "print(invitation[1],\"You are invited\")\n",
    "print(invitation[2],\"You are invited\")"
   ]
  },
  {
   "cell_type": "markdown",
   "id": "3f5e1a8f-7755-4989-bc00-cad4f0761886",
   "metadata": {},
   "source": [
    "## 4-2. Changing Guest List: You just heard that one of your guests can’t make the dinner, so you need to send out a new set of invitations. You’ll have to think of someone else to invite. \n",
    "### •     Start with your program from Exercise 4-1. Add a print statement at the end of your program stating the name of the guest who can’t make it. \n",
    "### •     Modify your list, replacing the name of the guest who can’t make it with the name of the new person you are inviting. \n",
    "### •     Print a second set of invitation messages, one for each person who is still in your list. "
   ]
  },
  {
   "cell_type": "code",
   "execution_count": 3,
   "id": "8fe886dc-436a-45a6-8a59-dacb470e306d",
   "metadata": {},
   "outputs": [
    {
     "name": "stdout",
     "output_type": "stream",
     "text": [
      "mubashir You are invited\n",
      "raqib You are invited\n",
      "sharjeel You are invited\n",
      "Unfortunatily sharjeel cant make it to the dinner\n",
      "mubashir You are invited\n",
      "Ali You are invited\n",
      "raqib You are invited\n"
     ]
    }
   ],
   "source": [
    "invitation = ['mubashir','raqib','sharjeel']\n",
    "print(invitation[0],\"You are invited\")\n",
    "print(invitation[1],\"You are invited\")\n",
    "print(invitation[2],\"You are invited\")\n",
    "\n",
    "#guest who cant make it\n",
    "print(\"Unfortunatily\",invitation[2],\"cant make it to the dinner\")\n",
    "#modifing list\n",
    "invitation.remove(\"sharjeel\")\n",
    "invitation.insert(1,\"Ali\")\n",
    "#print invitation of inviting people\n",
    "print(invitation[0],\"You are invited\")\n",
    "print(invitation[1],\"You are invited\")\n",
    "print(invitation[2],\"You are invited\")"
   ]
  },
  {
   "cell_type": "markdown",
   "id": "af9c37c6-466f-4e31-9ce5-3c878c324dd1",
   "metadata": {},
   "source": [
    "## 4-3. More Guests: You just found a bigger dinner table, so now more space is available. Think of three more guests to invite to dinner.\n",
    "#### •     Start with your program from Exercise 4-1 or Exercise 4-2. Add a print statement to the end of your program informing people that you found a bigger dinner table. \n",
    "#### •     Use insert() to add one new guest to the beginning of your list. \n",
    "#### •     Use insert() to add one new guest to the middle of your list. \n",
    "#### •     Use append() to add one new guest to the end of your list. \n",
    "#### •     Print a new set of invitation messages, one for each person in your list. "
   ]
  },
  {
   "cell_type": "code",
   "execution_count": 12,
   "id": "7551779e-a736-433f-808a-f91ab3282a16",
   "metadata": {},
   "outputs": [
    {
     "name": "stdout",
     "output_type": "stream",
     "text": [
      "mubashir You are invited\n",
      "raqib You are invited\n",
      "sharjeel You are invited\n",
      "Unfortunatily sharjeel cant make it to the dinner\n",
      "mubashir You are invited\n",
      "Ali You are invited\n",
      "raqib You are invited\n",
      "Hey guys I have to inform you that now i am inviting some more people in dinner\n",
      "Ahmed you are invited in dinner\n",
      "mubashir you are invited in dinner\n",
      "Sana you are invited in dinner\n",
      "Ali you are invited in dinner\n",
      "raqib you are invited in dinner\n",
      "Amna you are invited in dinner\n"
     ]
    }
   ],
   "source": [
    "invitation = ['mubashir','raqib','sharjeel']\n",
    "print(invitation[0],\"You are invited\")\n",
    "print(invitation[1],\"You are invited\")\n",
    "print(invitation[2],\"You are invited\")\n",
    "\n",
    "#guest who cant make it\n",
    "print(\"Unfortunatily\",invitation[2],\"cant make it to the dinner\")\n",
    "\n",
    "#modifing list\n",
    "invitation.remove(\"sharjeel\")\n",
    "invitation.insert(1,\"Ali\")\n",
    "\n",
    "#print invitation of inviting people\n",
    "print(invitation[0],\"You are invited\")\n",
    "print(invitation[1],\"You are invited\")\n",
    "print(invitation[2],\"You are invited\")\n",
    "\n",
    "#inviting new people\n",
    "print(\"Hey guys I have to inform you that now i am inviting some more people in dinner\")\n",
    "invitation.insert(0,\"Ahmed\")\n",
    "invitation.insert(2,\"Sana\")\n",
    "invitation.append('Amna')\n",
    "for a in invitation:\n",
    "    print(a,\"you are invited in dinner\")\n"
   ]
  },
  {
   "cell_type": "markdown",
   "id": "d9621d93-74f7-460e-8bc4-c922c44ba213",
   "metadata": {},
   "source": [
    "### 4-4. Shrinking Guest List: You just found out that your new dinner table won’t arrive in time for the dinner, and you have space for only two guests. \n",
    "#### •     Start with your program from Exercise 4-3. Add a new line that prints a message saying that you can invite only two people for dinner. \n",
    "#### •     Use pop() to remove guests from your list one at a time until only two names remain in your list. Each time you pop a name from your list, print a message to that person letting them know you’re sorry you can’t invite them to dinner. \n",
    "#### •     Print a message to each of the two people still on your list, letting them know they’re still invited. \n",
    "#### •     Use del to remove the last two names from your list, so you have an empty list. Print your list to make sure you actually have an empty list at the end of your program."
   ]
  },
  {
   "cell_type": "code",
   "execution_count": 28,
   "id": "a0e875e2-b6c9-4c34-83aa-3a33c3b9c440",
   "metadata": {},
   "outputs": [
    {
     "name": "stdout",
     "output_type": "stream",
     "text": [
      "mubashir You are invited\n",
      "raqib You are invited\n",
      "sharjeel You are invited\n",
      "Unfortunatily sharjeel cant make it to the dinner\n",
      "mubashir You are invited\n",
      "Ali You are invited\n",
      "raqib You are invited\n",
      "Hey guys I have to inform you that now i am inviting some more people in dinner\n",
      "Ahmed you are invited in dinner\n",
      "mubashir you are invited in dinner\n",
      "Sana you are invited in dinner\n",
      "Ali you are invited in dinner\n",
      "raqib you are invited in dinner\n",
      "Amna you are invited in dinner\n",
      "Sorry that I can invite only two people in dinner because my dinner table will not arrive in time \n",
      "Amna I am sorry, I can not invite you in dinner\n",
      "raqib I am sorry, I can not invite you in dinner\n",
      "Ali I am sorry, I can not invite you in dinner\n",
      "Sana I am sorry, I can not invite you in dinner\n",
      "Ahmed You are still invited\n",
      "mubashir You are still invited\n",
      "[]\n"
     ]
    }
   ],
   "source": [
    "invitation = ['mubashir','raqib','sharjeel']\n",
    "print(invitation[0],\"You are invited\")\n",
    "print(invitation[1],\"You are invited\")\n",
    "print(invitation[2],\"You are invited\")\n",
    "\n",
    "#guest who cant make it\n",
    "print(\"Unfortunatily\",invitation[2],\"cant make it to the dinner\")\n",
    "\n",
    "#modifing list\n",
    "invitation.remove(\"sharjeel\")\n",
    "invitation.insert(1,\"Ali\")\n",
    "\n",
    "#print invitation of inviting people\n",
    "print(invitation[0],\"You are invited\")\n",
    "print(invitation[1],\"You are invited\")\n",
    "print(invitation[2],\"You are invited\")\n",
    "\n",
    "#inviting new people\n",
    "print(\"Hey guys I have to inform you that now i am inviting some more people in dinner\")\n",
    "invitation.insert(0,\"Ahmed\")\n",
    "invitation.insert(2,\"Sana\")\n",
    "invitation.append('Amna')\n",
    "for a in invitation:\n",
    "    print(a,\"you are invited in dinner\")\n",
    "\n",
    "# place for only two people\n",
    "print(\"Sorry that I can invite only two people in dinner because my dinner table will not arrive in time \")\n",
    "\n",
    "# removing guest using pop()\n",
    "print(invitation.pop(),'I am sorry, I can not invite you in dinner')\n",
    "print(invitation.pop(),'I am sorry, I can not invite you in dinner')\n",
    "print(invitation.pop(),'I am sorry, I can not invite you in dinner')\n",
    "print(invitation.pop(),'I am sorry, I can not invite you in dinner')\n",
    "\n",
    "# people still invited\n",
    "for b in invitation:\n",
    "    print(b,\"You are still invited\")\n",
    "\n",
    "# empty list using del\n",
    "del invitation[:]\n",
    "print(invitation)"
   ]
  },
  {
   "cell_type": "markdown",
   "id": "bd63e0e4-cea4-40d1-8e91-463c5725c69c",
   "metadata": {},
   "source": [
    "### 4-5. Make an another list you wish and perform indexing and slicing operations on it. Also all those students who had not completed their marksheet assignment complete that with this one."
   ]
  },
  {
   "cell_type": "code",
   "execution_count": 33,
   "id": "182caca7-1375-4bdb-a4d1-5aaf63465b02",
   "metadata": {},
   "outputs": [
    {
     "name": "stdout",
     "output_type": "stream",
     "text": [
      "raqib\n",
      "['mubashir', 'raqib']\n"
     ]
    }
   ],
   "source": [
    "invitation = ['mubashir','raqib','sharjeel']\n",
    "print(invitation[1])\n",
    "print(invitation[:-1])"
   ]
  }
 ],
 "metadata": {
  "kernelspec": {
   "display_name": "Python 3 (ipykernel)",
   "language": "python",
   "name": "python3"
  },
  "language_info": {
   "codemirror_mode": {
    "name": "ipython",
    "version": 3
   },
   "file_extension": ".py",
   "mimetype": "text/x-python",
   "name": "python",
   "nbconvert_exporter": "python",
   "pygments_lexer": "ipython3",
   "version": "3.12.4"
  }
 },
 "nbformat": 4,
 "nbformat_minor": 5
}
