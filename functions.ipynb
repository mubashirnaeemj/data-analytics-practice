{
 "cells": [
  {
   "cell_type": "code",
   "execution_count": 5,
   "id": "f476b51e-c022-4d0a-a5ad-4d67e75cc3bf",
   "metadata": {},
   "outputs": [
    {
     "name": "stdout",
     "output_type": "stream",
     "text": [
      "My name is zubair\n",
      "13\n",
      "zubair\n",
      "zubair\n"
     ]
    }
   ],
   "source": [
    "def add(num1,num2):\n",
    "    total = num1 + num2\n",
    "    print(total)\n",
    "    \n",
    "def student(name, id):\n",
    "    print(f'''My name is {name}''')\n",
    "    add(11,2)\n",
    "    print(name)\n",
    "    return name\n",
    "\n",
    "name1 = student('zubair', 12004)\n",
    "print(name1)"
   ]
  },
  {
   "cell_type": "code",
   "execution_count": 29,
   "id": "29a73b59-f868-4cbf-9534-5a72983599cd",
   "metadata": {},
   "outputs": [
    {
     "name": "stdout",
     "output_type": "stream",
     "text": [
      "My name is zubair\n"
     ]
    }
   ],
   "source": [
    "def add(num1,num2):\n",
    "    total = num1 + num2\n",
    "    # print(total)\n",
    "    return total\n",
    "add(11,2)\n",
    "    \n",
    "def student(name, id):\n",
    "    print(f'''My name is {name}''')\n",
    "    # return name\n",
    "\n",
    "student('zubair', 12004)\n"
   ]
  },
  {
   "cell_type": "code",
   "execution_count": 36,
   "id": "47ba70d2-c0bc-486a-b33e-e41e55e885a0",
   "metadata": {},
   "outputs": [
    {
     "name": "stdout",
     "output_type": "stream",
     "text": [
      "My name is zubair\n",
      "13\n",
      "13\n",
      "None\n"
     ]
    }
   ],
   "source": [
    "def add(num1,num2):\n",
    "    total = num1 + num2\n",
    "    # print(total)\n",
    "    return total\n",
    "    \n",
    "def student(name, id):\n",
    "    print(f'''My name is {name}''')\n",
    "    name2 = print(add(11,2))\n",
    "    return name\n",
    "\n",
    "neme1 = student('zubair', 12004)\n",
    "print(name2)\n",
    "print(name1)"
   ]
  },
  {
   "cell_type": "code",
   "execution_count": 56,
   "id": "6bdd4886-56a3-4c58-a24c-b72247022d30",
   "metadata": {},
   "outputs": [
    {
     "name": "stdout",
     "output_type": "stream",
     "text": [
      "The sum of 4 and 10 is: 14\n"
     ]
    }
   ],
   "source": [
    "#############   PROGRAM TO CALL MORE THAN ONE FUNCTION VARIABLE OUTSIDE THE FUNTION   ##############\n",
    "num1 = 4\n",
    "num2 = 10\n",
    "\n",
    "def add(num1, num2):\n",
    "    return num1 + num2\n",
    "    \n",
    "result = add(num1, num2)\n",
    "\n",
    "# Print the result\n",
    "print(\"The sum of\", num1, \"and\", num2, \"is:\", result)\n"
   ]
  }
 ],
 "metadata": {
  "kernelspec": {
   "display_name": "Python 3 (ipykernel)",
   "language": "python",
   "name": "python3"
  },
  "language_info": {
   "codemirror_mode": {
    "name": "ipython",
    "version": 3
   },
   "file_extension": ".py",
   "mimetype": "text/x-python",
   "name": "python",
   "nbconvert_exporter": "python",
   "pygments_lexer": "ipython3",
   "version": "3.12.4"
  }
 },
 "nbformat": 4,
 "nbformat_minor": 5
}
