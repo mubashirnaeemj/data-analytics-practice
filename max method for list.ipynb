{
 "cells": [
  {
   "cell_type": "markdown",
   "id": "8f45ded7-ce02-4a97-916a-4a3ef30fcc37",
   "metadata": {},
   "source": [
    "## class and objects"
   ]
  },
  {
   "cell_type": "code",
   "execution_count": 38,
   "id": "eae3e490-caec-4db2-a627-67b2a58adfce",
   "metadata": {},
   "outputs": [],
   "source": [
    "class myclass:\n",
    "    def max(self, numbers):\n",
    "        # for i in range(8):\n",
    "        #     input(\"enter values in list\")\n",
    "            \n",
    "        largest = numbers[0]\n",
    "        for number in numbers:\n",
    "            if number > largest:\n",
    "                largest = number\n",
    "        return largest"
   ]
  },
  {
   "cell_type": "code",
   "execution_count": 39,
   "id": "5218a4bb-6547-4ccf-a526-adc547ccdab9",
   "metadata": {},
   "outputs": [],
   "source": [
    "abc = myclass()"
   ]
  },
  {
   "cell_type": "code",
   "execution_count": 41,
   "id": "5e3af156-92ba-4fae-8ab9-cfd90aa71f6e",
   "metadata": {},
   "outputs": [
    {
     "data": {
      "text/plain": [
       "9"
      ]
     },
     "execution_count": 41,
     "metadata": {},
     "output_type": "execute_result"
    }
   ],
   "source": [
    "abc.max([3,4,2,5,9,4,2])"
   ]
  }
 ],
 "metadata": {
  "kernelspec": {
   "display_name": "Python 3 (ipykernel)",
   "language": "python",
   "name": "python3"
  },
  "language_info": {
   "codemirror_mode": {
    "name": "ipython",
    "version": 3
   },
   "file_extension": ".py",
   "mimetype": "text/x-python",
   "name": "python",
   "nbconvert_exporter": "python",
   "pygments_lexer": "ipython3",
   "version": "3.12.4"
  }
 },
 "nbformat": 4,
 "nbformat_minor": 5
}
