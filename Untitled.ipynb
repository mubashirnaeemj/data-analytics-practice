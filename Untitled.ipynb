{
 "cells": [
  {
   "cell_type": "code",
   "execution_count": 10,
   "id": "edf37497-c571-43bc-bdce-91cb36edddbd",
   "metadata": {},
   "outputs": [
    {
     "name": "stdout",
     "output_type": "stream",
     "text": [
      "Twinkle, twinkle, little star,\n",
      "          How I wonder what you are!\n",
      "                Up above the world so high,\n",
      "                Like a diamond in the sky.\n",
      "Twinkle, twinkle, little star,\n",
      "        How I wonder what you are\n"
     ]
    }
   ],
   "source": [
    "print('''Twinkle, twinkle, little star,\n",
    "          How I wonder what you are!\n",
    "                Up above the world so high,\n",
    "                Like a diamond in the sky.\n",
    "Twinkle, twinkle, little star,\n",
    "        How I wonder what you are''')"
   ]
  },
  {
   "cell_type": "code",
   "execution_count": 12,
   "id": "679ff863-82de-4d79-bd12-d9e486567325",
   "metadata": {},
   "outputs": [
    {
     "name": "stdout",
     "output_type": "stream",
     "text": [
      "Python version\n",
      "3.12.4 | packaged by Anaconda, Inc. | (main, Jun 18 2024, 15:03:56) [MSC v.1929 64 bit (AMD64)]\n"
     ]
    }
   ],
   "source": [
    "import sys\n",
    "\n",
    "print(\"Python version\")\n",
    "print(sys.version)"
   ]
  },
  {
   "cell_type": "code",
   "execution_count": 19,
   "id": "54255901-f1e2-4cc4-9b56-f9ff2cc73076",
   "metadata": {},
   "outputs": [
    {
     "name": "stdout",
     "output_type": "stream",
     "text": [
      "2024-08-01 20:04:06.222120\n"
     ]
    }
   ],
   "source": [
    "from datetime import datetime\n",
    "\n",
    "now = datetime.now()\n",
    "print(now)"
   ]
  },
  {
   "cell_type": "code",
   "execution_count": 23,
   "id": "f127c7a6-f64f-4233-ae9d-ae84f512d69e",
   "metadata": {},
   "outputs": [
    {
     "name": "stdin",
     "output_type": "stream",
     "text": [
      "Enter the radius of the circle:  3\n"
     ]
    },
    {
     "name": "stdout",
     "output_type": "stream",
     "text": [
      "The area of the circle is: 28.26\n"
     ]
    }
   ],
   "source": [
    "radius = float(input(\"Enter the radius of the circle: \"))\n",
    "area = 3.14 * radius ** 2\n",
    "print(\"The area of the circle is:\",area)\n"
   ]
  },
  {
   "cell_type": "code",
   "execution_count": 29,
   "id": "ce09ba65-68ea-44af-9997-7f01d93c1738",
   "metadata": {},
   "outputs": [
    {
     "name": "stdin",
     "output_type": "stream",
     "text": [
      "Enter your first name:  mubas\n",
      "Enter your last name:  naeem\n"
     ]
    },
    {
     "name": "stdout",
     "output_type": "stream",
     "text": [
      "sabum meean\n"
     ]
    }
   ],
   "source": [
    "first_name = input(\"Enter your first name: \")\n",
    "last_name = input(\"Enter your last name: \")\n",
    "\n",
    "print(first_name[::-1] ,last_name[::-1])"
   ]
  },
  {
   "cell_type": "code",
   "execution_count": 32,
   "id": "e85ca02f-7761-4688-8dc6-3ee76b32761b",
   "metadata": {},
   "outputs": [
    {
     "name": "stdin",
     "output_type": "stream",
     "text": [
      "Enter the first number:  6\n",
      "Enter the second number:  5\n"
     ]
    },
    {
     "name": "stdout",
     "output_type": "stream",
     "text": [
      "The sum of  6.0 and 5.0 is 11.0\n"
     ]
    }
   ],
   "source": [
    "num1 = float(input(\"Enter the first number: \"))\n",
    "num2 = float(input(\"Enter the second number: \"))\n",
    "\n",
    "#sum\n",
    "sum = num1 + num2\n",
    "\n",
    "#result\n",
    "print(\"The sum of \",num1, \"and\", num2, \"is\", sum)"
   ]
  },
  {
   "cell_type": "code",
   "execution_count": 40,
   "id": "2361c799-1f1b-4827-b9d1-088ee19f4e23",
   "metadata": {},
   "outputs": [
    {
     "name": "stdin",
     "output_type": "stream",
     "text": [
      "Enter marks for subject 1:  60\n",
      "Enter marks for subject 2:  60\n",
      "Enter marks for subject 3:  70\n",
      "Enter marks for subject 4:  70\n",
      "Enter marks for subject 5:  65\n"
     ]
    },
    {
     "name": "stdout",
     "output_type": "stream",
     "text": [
      "Your grade is: A\n",
      "\n",
      "Mark Sheet\n",
      "----------\n",
      "Total Marks: 325.0\n",
      "Average Marks: 65.0\n"
     ]
    }
   ],
   "source": [
    "# Accept marks for five subjects from the user\n",
    "s1 = float(input(\"Enter marks for subject 1: \"))\n",
    "s2 = float(input(\"Enter marks for subject 2: \"))\n",
    "s3 = float(input(\"Enter marks for subject 3: \"))\n",
    "s4 = float(input(\"Enter marks for subject 4: \"))\n",
    "s5 = float(input(\"Enter marks for subject 5: \"))\n",
    "\n",
    "total = s1 + s2 + s3 + s4 + s5\n",
    "average = total / 5\n",
    "\n",
    "if average > 0:\n",
    "    print(\"Your grade is: A\") \n",
    "elif average >= 80:\n",
    "    print(\"Your grade is: B\")\n",
    "elif average >= 70:\n",
    "    print(\"Your grade is: C\")\n",
    "elif average >= 60:\n",
    "    print(\"Your grade is: D\")\n",
    "else:\n",
    "    print(\"Your grade is: F\")\n",
    "    \n",
    "print(\"\\nMark Sheet\")\n",
    "print(\"Total Marks:\", total)\n",
    "print(\"Average Marks:\", average)"
   ]
  },
  {
   "cell_type": "code",
   "execution_count": 42,
   "id": "f9729ca6-76f7-4883-ba7f-b5b0b0450c5c",
   "metadata": {},
   "outputs": [
    {
     "name": "stdin",
     "output_type": "stream",
     "text": [
      "Enter a number:  4\n"
     ]
    },
    {
     "name": "stdout",
     "output_type": "stream",
     "text": [
      "4 is even.\n"
     ]
    }
   ],
   "source": [
    "number = int(input(\"Enter a number: \"))\n",
    "\n",
    "if number % 2 == 0:\n",
    "    print(number, \"is even.\")\n",
    "else:\n",
    "    print(number, \"is odd.\")"
   ]
  },
  {
   "cell_type": "code",
   "execution_count": 44,
   "id": "2f9f7884-2ae8-464b-a130-b3c1bdb549d5",
   "metadata": {},
   "outputs": [
    {
     "name": "stdout",
     "output_type": "stream",
     "text": [
      "The length of the list is 5\n"
     ]
    }
   ],
   "source": [
    "my_list = [1, 2, 3, 4, 5]\n",
    "print(\"The length of the list is\", len(my_list))"
   ]
  },
  {
   "cell_type": "code",
   "execution_count": 50,
   "id": "b85e6160-7d65-4e24-976f-7f2d821f8c0a",
   "metadata": {},
   "outputs": [
    {
     "name": "stdout",
     "output_type": "stream",
     "text": [
      "The sum of all numeric items in the list is: 15\n"
     ]
    }
   ],
   "source": [
    "my_list = [1, 2, 3, 4, 5]\n",
    "\n",
    "# Initialize the sum\n",
    "total_sum = 0\n",
    "\n",
    "# Iterate through the list and add each numeric item to the total sum\n",
    "for item in my_list:\n",
    "    total_sum += item\n",
    "\n",
    "# Display the result\n",
    "print(\"The sum of all numeric items in the list is:\", total_sum)\n"
   ]
  },
  {
   "cell_type": "code",
   "execution_count": 53,
   "id": "77ff95ec-193c-449b-935d-7c2439d1190f",
   "metadata": {},
   "outputs": [
    {
     "name": "stdout",
     "output_type": "stream",
     "text": [
      "The largest number in the list is: 99\n"
     ]
    }
   ],
   "source": [
    "my_list = [10, 20, 4, 45, 99]\n",
    "\n",
    "# Find the largest number in the list\n",
    "largest_number = max(my_list)\n",
    "\n",
    "# Display the result\n",
    "print(\"The largest number in the list is:\", largest_number)"
   ]
  },
  {
   "cell_type": "code",
   "execution_count": 54,
   "id": "e3e6b799-062c-442b-a569-1b4beb8b789f",
   "metadata": {},
   "outputs": [
    {
     "name": "stdout",
     "output_type": "stream",
     "text": [
      "1\n",
      "1\n",
      "2\n",
      "3\n"
     ]
    }
   ],
   "source": [
    "a = [1, 1, 2, 3, 5, 8, 13, 21, 34, 55, 89]\n",
    "\n",
    "\n",
    "for element in a:\n",
    "    if element < 5:\n",
    "        print(element)"
   ]
  }
 ],
 "metadata": {
  "kernelspec": {
   "display_name": "Python 3 (ipykernel)",
   "language": "python",
   "name": "python3"
  },
  "language_info": {
   "codemirror_mode": {
    "name": "ipython",
    "version": 3
   },
   "file_extension": ".py",
   "mimetype": "text/x-python",
   "name": "python",
   "nbconvert_exporter": "python",
   "pygments_lexer": "ipython3",
   "version": "3.12.4"
  }
 },
 "nbformat": 4,
 "nbformat_minor": 5
}
