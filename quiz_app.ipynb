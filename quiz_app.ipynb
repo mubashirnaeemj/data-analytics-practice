{
 "cells": [
  {
   "cell_type": "code",
   "execution_count": 2,
   "id": "25424787-86da-473e-b2fd-9b7db3c49129",
   "metadata": {},
   "outputs": [
    {
     "name": "stdout",
     "output_type": "stream",
     "text": [
      "Q# 1\n",
      "What is 2+2 ?\n",
      "(1). 2\n",
      "(2). 3\n",
      "(3). 4\n",
      "(4). 8\n"
     ]
    },
    {
     "name": "stdin",
     "output_type": "stream",
     "text": [
      "enter your choice 1\n"
     ]
    },
    {
     "name": "stdout",
     "output_type": "stream",
     "text": [
      "wrong answer\n",
      "Q# 2\n",
      "What is 2*2 ?\n",
      "(1). 2\n",
      "(2). 3\n",
      "(3). 4\n",
      "(4). 8\n"
     ]
    },
    {
     "name": "stdin",
     "output_type": "stream",
     "text": [
      "enter your choice 1\n"
     ]
    },
    {
     "name": "stdout",
     "output_type": "stream",
     "text": [
      "wrong answer\n",
      "Q# 3\n",
      "What is 2/2 ?\n",
      "(1). 1\n",
      "(2). 3\n",
      "(3). 4\n",
      "(4). 0\n"
     ]
    },
    {
     "name": "stdin",
     "output_type": "stream",
     "text": [
      "enter your choice 1\n"
     ]
    },
    {
     "name": "stdout",
     "output_type": "stream",
     "text": [
      "correct answer\n",
      "Q# 4\n",
      "What is 2%2 ?\n",
      "(1). 2\n",
      "(2). 3\n",
      "(3). 0\n",
      "(4). 8\n"
     ]
    },
    {
     "name": "stdin",
     "output_type": "stream",
     "text": [
      "enter your choice 1\n"
     ]
    },
    {
     "name": "stdout",
     "output_type": "stream",
     "text": [
      "wrong answer\n",
      "Q# 5\n",
      "What is 2+2-3 ?\n",
      "(1). 2\n",
      "(2). 1\n",
      "(3). 4\n",
      "(4). 8\n"
     ]
    },
    {
     "name": "stdin",
     "output_type": "stream",
     "text": [
      "enter your choice 1\n"
     ]
    },
    {
     "name": "stdout",
     "output_type": "stream",
     "text": [
      "wrong answer\n",
      "Q# 6\n",
      "What is the capital of Pakistan ?\n",
      "(1). Karachi\n",
      "(2). Multan\n",
      "(3). Lahore\n",
      "(4). Ialamabad\n"
     ]
    },
    {
     "name": "stdin",
     "output_type": "stream",
     "text": [
      "enter your choice 1\n"
     ]
    },
    {
     "name": "stdout",
     "output_type": "stream",
     "text": [
      "wrong answer\n",
      "Q# 7\n",
      "What is 2+2 ?\n",
      "(1). 2\n",
      "(2). 3\n",
      "(3). 4\n",
      "(4). 8\n"
     ]
    },
    {
     "name": "stdin",
     "output_type": "stream",
     "text": [
      "enter your choice 1\n"
     ]
    },
    {
     "name": "stdout",
     "output_type": "stream",
     "text": [
      "wrong answer\n",
      "Q# 8\n",
      "What is 2+2 ?\n",
      "(1). 2\n",
      "(2). 3\n",
      "(3). 4\n",
      "(4). 8\n"
     ]
    },
    {
     "name": "stdin",
     "output_type": "stream",
     "text": [
      "enter your choice 1\n"
     ]
    },
    {
     "name": "stdout",
     "output_type": "stream",
     "text": [
      "wrong answer\n",
      "Q# 9\n",
      "What is 2+2 ?\n",
      "(1). 2\n",
      "(2). 3\n",
      "(3). 4\n",
      "(4). 8\n"
     ]
    },
    {
     "name": "stdin",
     "output_type": "stream",
     "text": [
      "enter your choice 1\n"
     ]
    },
    {
     "name": "stdout",
     "output_type": "stream",
     "text": [
      "wrong answer\n",
      "Q# 10\n",
      "What is 2+2 ?\n",
      "(1). 2\n",
      "(2). 3\n",
      "(3). 4\n",
      "(4). 8\n"
     ]
    },
    {
     "name": "stdin",
     "output_type": "stream",
     "text": [
      "enter your choice 1\n"
     ]
    },
    {
     "name": "stdout",
     "output_type": "stream",
     "text": [
      "wrong answer\n",
      "your total score is 1/10\n"
     ]
    }
   ],
   "source": [
    "score = 0\n",
    "questions = [\n",
    "    (\"What is 2+2 ?\", [\"2\", \"3\", \"4\", \"8\"], 3),\n",
    "    (\"What is 2*2 ?\", [\"2\", \"3\", \"4\", \"8\"], 3),\n",
    "    (\"What is 2/2 ?\", [\"1\", \"3\", \"4\", \"0\"], 1),\n",
    "    (\"What is 2%2 ?\", [\"2\", \"3\", \"0\", \"8\"], 3),\n",
    "    (\"What is 2+2-3 ?\", [\"2\", \"1\", \"4\", \"8\"], 2),\n",
    "    (\"What is the capital of Pakistan ?\", [\"Karachi\", \"Multan\", \"Lahore\", \"Ialamabad\"], 4),\n",
    "    (\"What is 2+2 ?\", [\"2\", \"3\", \"4\", \"8\"], 3),\n",
    "    (\"What is 2+2 ?\", [\"2\", \"3\", \"4\", \"8\"], 3),\n",
    "    (\"What is 2+2 ?\", [\"2\", \"3\", \"4\", \"8\"], 3),\n",
    "    (\"What is 2+2 ?\", [\"2\", \"3\", \"4\", \"8\"], 3)\n",
    "]\n",
    "\n",
    "for i, (question, choices, answer) in enumerate(questions, 1):\n",
    "    print(\"Q#\",i)\n",
    "    print(question)\n",
    "    for j, choice in enumerate(choices, 1):\n",
    "        print(f\"({j}). {choice}\")\n",
    "    select = int(input(\"enter your choice\"))\n",
    "    if select == answer:\n",
    "        print(\"correct answer\")\n",
    "        score +=1\n",
    "    else:\n",
    "        print(\"wrong answer\")\n",
    "\n",
    "print(f\"your total score is {score}/{len(questions)}\")"
   ]
  }
 ],
 "metadata": {
  "kernelspec": {
   "display_name": "Python 3 (ipykernel)",
   "language": "python",
   "name": "python3"
  },
  "language_info": {
   "codemirror_mode": {
    "name": "ipython",
    "version": 3
   },
   "file_extension": ".py",
   "mimetype": "text/x-python",
   "name": "python",
   "nbconvert_exporter": "python",
   "pygments_lexer": "ipython3",
   "version": "3.12.4"
  }
 },
 "nbformat": 4,
 "nbformat_minor": 5
}
