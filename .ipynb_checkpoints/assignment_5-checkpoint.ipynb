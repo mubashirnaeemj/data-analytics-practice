{
 "cells": [
  {
   "cell_type": "markdown",
   "id": "716b21b0-d802-4eb3-a355-2a6d65825312",
   "metadata": {},
   "source": [
    "### 1. You need to store and manage employee records where each record includes an employee's ID, name, and department. (Use tuples to represent each employee record)."
   ]
  },
  {
   "cell_type": "code",
   "execution_count": 2,
   "id": "c9e63dfa-9afa-48e7-97cd-ab8653dab503",
   "metadata": {},
   "outputs": [
    {
     "name": "stdout",
     "output_type": "stream",
     "text": [
      "((101, 'Ali', 'HR'), (102, 'Sana', 'Engineering'), (103, 'Bilal', 'Marketing'))\n"
     ]
    }
   ],
   "source": [
    "# Define employee records using tuples\n",
    "employee_1 = (101, \"Ali\", \"HR\")\n",
    "employee_2 = (102, \"Sana\", \"Engineering\")\n",
    "employee_3 = (103, \"Bilal\", \"Marketing\")\n",
    "data = (employee_1, employee_2, employee_3)\n",
    "print(data)"
   ]
  },
  {
   "cell_type": "markdown",
   "id": "085e0767-522b-4fe4-bb63-f525e0e0210d",
   "metadata": {},
   "source": [
    "### 2. You are managing an inventory system where each item has an item ID, description, and quantity available. (Use tuples to represent each inventory item)."
   ]
  },
  {
   "cell_type": "code",
   "execution_count": 4,
   "id": "2b7c823c-fe88-4305-94d6-63a6cd00693d",
   "metadata": {},
   "outputs": [
    {
     "name": "stdout",
     "output_type": "stream",
     "text": [
      "[(201, 'Laptop', 10), (202, 'Mouse', 50), (203, 'Keyboard', 30)]\n"
     ]
    }
   ],
   "source": [
    "# Define inventory items using tuples\n",
    "item_1 = (201, \"Laptop\", 10)\n",
    "item_2 = (202, \"Mouse\", 50)\n",
    "item_3 = (203, \"Keyboard\", 30)\n",
    "\n",
    "data_1 = [item_1, item_2, item_3]\n",
    "print(data_1)"
   ]
  },
  {
   "cell_type": "markdown",
   "id": "db906089-df3f-43b3-8959-563f694b1e8f",
   "metadata": {},
   "source": [
    "### 3. You need to store the dates and times of scheduled events, like meetings or appointments. (Use tuples to store date and time information)."
   ]
  },
  {
   "cell_type": "code",
   "execution_count": 8,
   "id": "520da397-8eb0-445f-98de-5aeb1e7e2bfb",
   "metadata": {},
   "outputs": [
    {
     "name": "stdout",
     "output_type": "stream",
     "text": [
      "[('6-9-2024', '9:00 AM', 'Team Meeting'), ('16-9-2024', '12:00 PM', 'Doctor Appointment'), ('10-8-2024', '11:30 PM', 'Project Presentation')]\n"
     ]
    }
   ],
   "source": [
    "# Define scheduled events using tuples\n",
    "event_1 = (\"6-9-2024\", \"9:00 AM\", \"Team Meeting\")\n",
    "event_2 = (\"16-9-2024\", \"12:00 PM\", \"Doctor Appointment\")\n",
    "event_3 = (\"10-8-2024\", \"11:30 PM\", \"Project Presentation\")\n",
    "\n",
    "# Store the events in a list\n",
    "events = [event_1, event_2, event_3]\n",
    "print(events)\n"
   ]
  },
  {
   "cell_type": "markdown",
   "id": "66844818-b82a-4654-9f1f-cb060b8da9a9",
   "metadata": {},
   "source": [
    "### 4. Store a company's employee details, organized by department. (Use dictionary in dictionary)."
   ]
  },
  {
   "cell_type": "code",
   "execution_count": 2,
   "id": "fe7b934d-29ab-449d-a73d-b73e3bab178f",
   "metadata": {},
   "outputs": [
    {
     "name": "stdout",
     "output_type": "stream",
     "text": [
      "{'age': 28, 'position': 'Developer'}\n"
     ]
    }
   ],
   "source": [
    "# Dictionary to store employee details by department\n",
    "company_employees = {\n",
    "    'HR': {\n",
    "        'uzair': {'age': 30, 'position': 'Manager'},\n",
    "        'amna': {'age': 25, 'position': 'Recruiter'}\n",
    "    },\n",
    "    'IT': {\n",
    "        'ali': {'age': 28, 'position': 'Developer'},\n",
    "        'dawood': {'age': 35, 'position': 'System Administrator'}\n",
    "    },\n",
    "    'Finance': {\n",
    "        'sana': {'age': 40, 'position': 'Accountant'},\n",
    "        'faraz': {'age': 45, 'position': 'Financial Analyst'}\n",
    "    }\n",
    "}\n",
    "\n",
    "# Example of accessing data\n",
    "print(company_employees['IT']['ali'])  # Output: {'age': 28, 'position': 'Developer'}\n"
   ]
  },
  {
   "cell_type": "markdown",
   "id": "e74384e1-d3b2-4394-8d95-6fa72ac826c5",
   "metadata": {},
   "source": [
    "### 5. Keep track of student scores in various subjects and retrieve a student's scores. (Use dictionary in List)."
   ]
  },
  {
   "cell_type": "code",
   "execution_count": 26,
   "id": "8053ba38-3db4-41f5-b7d9-055422971173",
   "metadata": {},
   "outputs": [
    {
     "name": "stdout",
     "output_type": "stream",
     "text": [
      "The score of Alice is {'Math': 85, 'Science': 92, 'English': 88}\n",
      "The score of Bob is {'Math': 78, 'Science': 81, 'English': 74}\n",
      "The score of Charlie is {'Math': 90, 'Science': 87, 'English': 85}\n"
     ]
    }
   ],
   "source": [
    "# List to store student scores\n",
    "students_scores = [\n",
    "    {'name': 'Alice', 'subjects': {'Math': 85, 'Science': 92, 'English': 88}},\n",
    "    {'name': 'Bob', 'subjects': {'Math': 78, 'Science': 81, 'English': 74}},\n",
    "    {'name': 'Charlie', 'subjects': {'Math': 90, 'Science': 87, 'English': 85}}\n",
    "]\n",
    "for student in students_scores:\n",
    "    print(f\"The score of {student['name']} is {student['subjects']}\")"
   ]
  },
  {
   "cell_type": "markdown",
   "id": "eb5d0e1d-9c64-4f2d-bb27-002c33fb9680",
   "metadata": {},
   "source": [
    "### 6. Track various projects and their associated tasks, and retrieve tasks for a specific project. (Use List in Dictionary)."
   ]
  },
  {
   "cell_type": "code",
   "execution_count": 48,
   "id": "7d77655a-7fa7-497c-88f0-745902144f43",
   "metadata": {},
   "outputs": [
    {
     "name": "stdout",
     "output_type": "stream",
     "text": [
      "['Task 1', 'Task 2', 'Task 3', 'Task 4']\n"
     ]
    }
   ],
   "source": [
    "projects = {\n",
    "    'ProjectA': ['Task 1', 'Task 2', 'Task 3'],\n",
    "    'ProjectB': ['Task 1', 'Task 2'],\n",
    "    'ProjectC': ['Task 1', 'Task 2', 'Task 3', 'Task 4']\n",
    "}\n",
    "print(projects['ProjectC'])\n"
   ]
  },
  {
   "cell_type": "markdown",
   "id": "d8659299-74b8-4078-a882-8a185ce6510c",
   "metadata": {},
   "source": [
    "### 7. Manage courses and their contents in a training program and retrieve details of a specific module. (dictionary in dictionary)"
   ]
  },
  {
   "cell_type": "code",
   "execution_count": 67,
   "id": "9b342f16-190f-4e31-85e8-c34a1bffe64e",
   "metadata": {},
   "outputs": [
    {
     "name": "stdout",
     "output_type": "stream",
     "text": [
      "Data Types and Variables\n"
     ]
    }
   ],
   "source": [
    "training_program = {\n",
    "    'Course1': {\n",
    "        'Module 1': 'Introduction to Python',\n",
    "        'Module 2': 'Data Types and Variables',\n",
    "        'Module 3': 'Control Structures'\n",
    "    },\n",
    "    'Course2': {\n",
    "        'Module 1': 'Introduction to Data Science',\n",
    "        'Module 2': 'Data Analysis with Pandas',\n",
    "        'Module 3': 'Data Visualization'\n",
    "    },\n",
    "    'Course3': {\n",
    "        'Module 1': 'Introduction to Web Development',\n",
    "        'Module 2': 'HTML and CSS',\n",
    "        'Module 3': 'JavaScript Basics'\n",
    "    }\n",
    "}\n",
    "print(training_program['Course1']['Module 2'])\n"
   ]
  },
  {
   "cell_type": "markdown",
   "id": "1de4a3c4-8354-46a9-bb4f-3e456bb4d5ba",
   "metadata": {},
   "source": [
    "### 8.You have a list where each element is a tuple containing a product's name and its price. You need to find products that are below a certain price threshold. (Use unpackin lists of tuples)"
   ]
  },
  {
   "cell_type": "code",
   "execution_count": 97,
   "id": "5db0ed7d-ce56-4bdc-836d-c1277661d818",
   "metadata": {},
   "outputs": [
    {
     "name": "stdout",
     "output_type": "stream",
     "text": [
      "product name is Laptop and price is 1200\n",
      "product name is Smartphone and price is 800\n"
     ]
    }
   ],
   "source": [
    "products = [\n",
    "    ('Laptop', 1200),\n",
    "    ('Smartphone', 800),\n",
    "    ('Tablet', 300),\n",
    "    ('Headphones', 150),\n",
    "    ('Smartwatch', 200)\n",
    "]\n",
    "price_threshold = 500\n",
    "for product, price in products:\n",
    "    if (price > price_threshold):\n",
    "        print(\"product name is\",product,\"and price is\", price )"
   ]
  }
 ],
 "metadata": {
  "kernelspec": {
   "display_name": "Python 3 (ipykernel)",
   "language": "python",
   "name": "python3"
  },
  "language_info": {
   "codemirror_mode": {
    "name": "ipython",
    "version": 3
   },
   "file_extension": ".py",
   "mimetype": "text/x-python",
   "name": "python",
   "nbconvert_exporter": "python",
   "pygments_lexer": "ipython3",
   "version": "3.12.4"
  }
 },
 "nbformat": 4,
 "nbformat_minor": 5
}
