{
 "cells": [
  {
   "cell_type": "code",
   "execution_count": 5,
   "id": "e811ed27-e2ee-4cfc-b8e5-e68993dc155b",
   "metadata": {},
   "outputs": [
    {
     "data": {
      "text/plain": [
       "['__add__',\n",
       " '__class__',\n",
       " '__class_getitem__',\n",
       " '__contains__',\n",
       " '__delattr__',\n",
       " '__delitem__',\n",
       " '__dir__',\n",
       " '__doc__',\n",
       " '__eq__',\n",
       " '__format__',\n",
       " '__ge__',\n",
       " '__getattribute__',\n",
       " '__getitem__',\n",
       " '__getstate__',\n",
       " '__gt__',\n",
       " '__hash__',\n",
       " '__iadd__',\n",
       " '__imul__',\n",
       " '__init__',\n",
       " '__init_subclass__',\n",
       " '__iter__',\n",
       " '__le__',\n",
       " '__len__',\n",
       " '__lt__',\n",
       " '__mul__',\n",
       " '__ne__',\n",
       " '__new__',\n",
       " '__reduce__',\n",
       " '__reduce_ex__',\n",
       " '__repr__',\n",
       " '__reversed__',\n",
       " '__rmul__',\n",
       " '__setattr__',\n",
       " '__setitem__',\n",
       " '__sizeof__',\n",
       " '__str__',\n",
       " '__subclasshook__',\n",
       " 'append',\n",
       " 'clear',\n",
       " 'copy',\n",
       " 'count',\n",
       " 'extend',\n",
       " 'index',\n",
       " 'insert',\n",
       " 'pop',\n",
       " 'remove',\n",
       " 'reverse',\n",
       " 'sort']"
      ]
     },
     "execution_count": 5,
     "metadata": {},
     "output_type": "execute_result"
    }
   ],
   "source": [
    "dir(list)"
   ]
  },
  {
   "cell_type": "code",
   "execution_count": 40,
   "id": "acad15aa-00c4-4ea7-9522-bf1e80a3928d",
   "metadata": {},
   "outputs": [
    {
     "name": "stdout",
     "output_type": "stream",
     "text": [
      "['name', 'class', 'section', 'age', 'sex', 'marks', 'nationality', 'height']\n",
      "[]\n",
      "1\n",
      "3\n",
      "['name', 'class', 'section', 'weight', 'age', 'sex', 'marks', 'nationality', 'height']\n",
      "['name', 'class', 'section', 'age', 'sex', 'marks', 'nationality', 'height']\n",
      "['name', 'class', 'section', 'age', 'marks', 'nationality', 'height']\n",
      "['height', 'nationality', 'marks', 'age', 'section', 'class', 'name']\n",
      "['age', 'class', 'height', 'marks', 'name', 'nationality', 'section']\n",
      "['age', 'class', 'height', 'marks', 'name', 'nationality', 'section']\n"
     ]
    }
   ],
   "source": [
    "my_list = ['name', 'class', 'section', 'age', 'sex', 'marks', 'nationality']\n",
    "copy_list = my_list.copy()\n",
    "copy_list.append('height')\n",
    "print(copy_list)\n",
    "my_list.clear()\n",
    "print(my_list)\n",
    "print(copy_list.count('age'))\n",
    "print(copy_list.index('age'))\n",
    "copy_list.insert(3,'weight')\n",
    "print(copy_list)\n",
    "copy_list.pop(3)\n",
    "print(copy_list)\n",
    "copy_list.remove('sex')\n",
    "print(copy_list)\n",
    "copy_list.reverse()\n",
    "print(copy_list)\n",
    "copy_list.sort()\n",
    "print(copy_list)\n",
    "copy_list.extend(my_list)\n",
    "print(copy_list)"
   ]
  },
  {
   "cell_type": "code",
   "execution_count": 14,
   "id": "cbfdd94d-c06b-48e3-8f94-0bc872e11409",
   "metadata": {},
   "outputs": [
    {
     "name": "stdout",
     "output_type": "stream",
     "text": [
      "[['name', 'class', 'section', 'age', 'sex', 'marks', 'nationality'], '10', 'ahmed', ['ali', '12', 'C', '22', 'M', '99', 'PAK'], '23k', '7.2']\n",
      "10\n",
      "['name', 'class', 'section', 'age', 'sex', 'marks', 'nationality']\n",
      "['class', 'sex']\n",
      "['12', 'M']\n"
     ]
    }
   ],
   "source": [
    "a = ['name', 'class', 'section', 'age', 'sex', 'marks', 'nationality']\n",
    "b = ['ali','12','C','22','M','99','PAK']\n",
    "c = [a,'10','ahmed',b,'23k','7.2']\n",
    "print(c)\n",
    "print(c[1])\n",
    "print(c[0])\n",
    "print(c[0][1:-2:3])\n",
    "print(c[3][1:-2:3])"
   ]
  },
  {
   "cell_type": "code",
   "execution_count": 33,
   "id": "c2366649-b967-40cb-8b63-f433b29a1268",
   "metadata": {},
   "outputs": [
    {
     "name": "stdout",
     "output_type": "stream",
     "text": [
      "[['name', 'class', 'section', 'age', 'sex', 'marks', 'nationality'], '10', 'ahmed', ['ali', '12', 'C', '22', 'M', '99', 'PAK'], '23k', '7.2']\n"
     ]
    }
   ],
   "source": [
    "print(c)\n"
   ]
  },
  {
   "cell_type": "code",
   "execution_count": 40,
   "id": "f5c319aa-b0c9-4131-beed-9c57c8d479f9",
   "metadata": {},
   "outputs": [
    {
     "name": "stdout",
     "output_type": "stream",
     "text": [
      "[['name', 'class', 'section', 'age', 'sex', 'marks', 'nationality'], '10', 'ahmed', ['ali', '12', 'C', '22', 'M', '99', 'PAK', 'IND'], '23k', '7.2']\n"
     ]
    }
   ],
   "source": [
    "c[3].append('IND')\n",
    "print(c)"
   ]
  },
  {
   "cell_type": "code",
   "execution_count": 41,
   "id": "786979b9-9568-4d92-b263-669498da2537",
   "metadata": {},
   "outputs": [
    {
     "name": "stdout",
     "output_type": "stream",
     "text": [
      "[[], '10', 'ahmed', ['ali', '12', 'C', '22', 'M', '99', 'PAK', 'IND'], '23k', '7.2']\n"
     ]
    }
   ],
   "source": [
    "c[0].clear()\n",
    "print(c)"
   ]
  },
  {
   "cell_type": "code",
   "execution_count": 47,
   "id": "f71e0265-91a6-4a74-b9e4-a274107f5910",
   "metadata": {},
   "outputs": [
    {
     "name": "stdout",
     "output_type": "stream",
     "text": [
      "12\n"
     ]
    }
   ],
   "source": [
    "copy_list = c.copy()[3][1]\n",
    "print(copy_list)"
   ]
  },
  {
   "cell_type": "code",
   "execution_count": 51,
   "id": "e02aa5f2-de77-4ef4-9688-0e394619a0b7",
   "metadata": {},
   "outputs": [
    {
     "data": {
      "text/plain": [
       "1"
      ]
     },
     "execution_count": 51,
     "metadata": {},
     "output_type": "execute_result"
    }
   ],
   "source": [
    "c[3].count('C')"
   ]
  },
  {
   "cell_type": "code",
   "execution_count": 59,
   "id": "1b431911-74a3-4a18-8c95-e7849a82655d",
   "metadata": {},
   "outputs": [
    {
     "data": {
      "text/plain": [
       "3"
      ]
     },
     "execution_count": 59,
     "metadata": {},
     "output_type": "execute_result"
    }
   ],
   "source": [
    "c[3].index(\"22\")"
   ]
  },
  {
   "cell_type": "code",
   "execution_count": 62,
   "id": "ea852d4a-66b4-41f4-aee9-efdaf2ee6ae5",
   "metadata": {},
   "outputs": [
    {
     "name": "stdout",
     "output_type": "stream",
     "text": [
      "[['AA'], '10', 'ahmed', ['ali', '12', 'C', '22', 'M', '99', 'PAK', 'IND', 'a'], '23k', '7.2']\n"
     ]
    }
   ],
   "source": [
    "c[0].insert(1,'AA')\n",
    "print(c)"
   ]
  },
  {
   "cell_type": "code",
   "execution_count": 63,
   "id": "19c0ad1a-7c5e-4c5e-8ace-42638e5f1537",
   "metadata": {},
   "outputs": [
    {
     "name": "stdout",
     "output_type": "stream",
     "text": [
      "[['AA'], '10', 'ahmed', ['ali', '12', 'C', '22', 'M', '99', 'IND', 'a'], '23k', '7.2']\n"
     ]
    }
   ],
   "source": [
    "c[3].pop(-3)\n",
    "print(c)"
   ]
  },
  {
   "cell_type": "code",
   "execution_count": 64,
   "id": "c13a2ba0-8a9c-4f6c-8e8e-0935dba450b1",
   "metadata": {},
   "outputs": [
    {
     "name": "stdout",
     "output_type": "stream",
     "text": [
      "[['AA'], '10', 'ahmed', ['ali', '12', 'C', '22', 'M', 'IND', 'a'], '23k', '7.2']\n"
     ]
    }
   ],
   "source": [
    "c[3].remove('99')\n",
    "print(c)"
   ]
  },
  {
   "cell_type": "code",
   "execution_count": 65,
   "id": "74fe4e6b-faaa-4d15-bb81-73cf2e4c40b1",
   "metadata": {},
   "outputs": [
    {
     "name": "stdout",
     "output_type": "stream",
     "text": [
      "[['AA'], '10', 'ahmed', ['a', 'IND', 'M', '22', 'C', '12', 'ali'], '23k', '7.2']\n"
     ]
    }
   ],
   "source": [
    "c[3].reverse()\n",
    "print(c)"
   ]
  },
  {
   "cell_type": "code",
   "execution_count": 66,
   "id": "082a5eff-701c-4c4b-9181-a56ff097c72d",
   "metadata": {},
   "outputs": [
    {
     "name": "stdout",
     "output_type": "stream",
     "text": [
      "[['AA'], '10', 'ahmed', ['12', '22', 'C', 'IND', 'M', 'a', 'ali'], '23k', '7.2']\n"
     ]
    }
   ],
   "source": [
    "c[3].sort()\n",
    "print(c)"
   ]
  },
  {
   "cell_type": "code",
   "execution_count": 77,
   "id": "a5ec46f3-020c-41ec-9667-78f6e8d2bd2b",
   "metadata": {},
   "outputs": [
    {
     "name": "stdout",
     "output_type": "stream",
     "text": [
      "[['ab', 'bc', 'cd'], '32', ['2.3', '3.2'], ['33', '3', 'sad'], ['3df', 'df2'], 'df']\n"
     ]
    }
   ],
   "source": [
    "aa = [['ab','bc','cd'],'32',['2.3','3.2']]\n",
    "bb = [['33','3','sad'],['3df','df2'],'df']\n",
    "aa.extend(bb)\n",
    "print(aa)"
   ]
  },
  {
   "cell_type": "code",
   "execution_count": 7,
   "id": "222df9fd-0cb5-45e9-b605-5904ce841fde",
   "metadata": {},
   "outputs": [
    {
     "name": "stdout",
     "output_type": "stream",
     "text": [
      "['ab', 'bc', 'cd', 's', 'a', 'd']\n"
     ]
    }
   ],
   "source": [
    "aa = [['ab','bc','cd'],'32',['2.3','3.2']]\n",
    "bb = [['33','3','sad'],['3df','df2'],'df']\n",
    "aa[0].extend(bb[0][-1])\n",
    "print(aa[0])"
   ]
  },
  {
   "cell_type": "code",
   "execution_count": null,
   "id": "39c97853-b34c-4b19-b2d4-4bc43f63797b",
   "metadata": {},
   "outputs": [],
   "source": []
  }
 ],
 "metadata": {
  "kernelspec": {
   "display_name": "Python 3 (ipykernel)",
   "language": "python",
   "name": "python3"
  },
  "language_info": {
   "codemirror_mode": {
    "name": "ipython",
    "version": 3
   },
   "file_extension": ".py",
   "mimetype": "text/x-python",
   "name": "python",
   "nbconvert_exporter": "python",
   "pygments_lexer": "ipython3",
   "version": "3.12.4"
  }
 },
 "nbformat": 4,
 "nbformat_minor": 5
}
