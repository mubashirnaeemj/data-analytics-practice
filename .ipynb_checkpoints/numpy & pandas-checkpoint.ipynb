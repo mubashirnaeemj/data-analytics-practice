{
 "cells": [
  {
   "cell_type": "markdown",
   "id": "23946abd-3913-4b47-9fca-63f9a54eff10",
   "metadata": {},
   "source": [
    "## numpy"
   ]
  },
  {
   "cell_type": "code",
   "execution_count": 1,
   "id": "b834a26f-c693-4900-bd0c-6735c21307ab",
   "metadata": {},
   "outputs": [
    {
     "name": "stdout",
     "output_type": "stream",
     "text": [
      "[ 6  7  8  9 10]\n",
      "[-1  0  1  2  3]\n",
      "[ 3  6  9 12 15]\n",
      "[0.5 1.  1.5 2.  2.5]\n"
     ]
    }
   ],
   "source": [
    "import numpy as np\n",
    "\n",
    "arr1 = np.array([1,2,3,4,5])\n",
    "\n",
    "add = arr1 + 5\n",
    "print(add)\n",
    "sub = arr1 - 2\n",
    "print(sub)\n",
    "mul = arr1 * 3 \n",
    "print(mul)\n",
    "div = arr1 / 2\n",
    "print(div)"
   ]
  },
  {
   "cell_type": "code",
   "execution_count": 5,
   "id": "044f48c3-395a-401c-a6b8-c92630b928f7",
   "metadata": {},
   "outputs": [
    {
     "name": "stdout",
     "output_type": "stream",
     "text": [
      "1\n",
      "5\n",
      "[2 3 4]\n"
     ]
    }
   ],
   "source": [
    "f_element = arr1[0]\n",
    "print(f_element)\n",
    "\n",
    "l_element = arr1[-1]\n",
    "print(l_element)\n",
    "\n",
    "subst = arr1[1:4]\n",
    "print(subst)"
   ]
  },
  {
   "cell_type": "code",
   "execution_count": 11,
   "id": "f9c5427d-70d0-4440-b8d4-ae014ea333e0",
   "metadata": {},
   "outputs": [
    {
     "name": "stdout",
     "output_type": "stream",
     "text": [
      "Reshaped array:\n",
      " [[1 2 3 4 5]]\n",
      "Transposed matrix:\n",
      " [[1]\n",
      " [2]\n",
      " [3]\n",
      " [4]\n",
      " [5]]\n"
     ]
    }
   ],
   "source": [
    "r_array = arr1.reshape((1, 5))\n",
    "print(\"Reshaped array:\\n\", r_array)\n",
    "\n",
    "\n",
    "transposed_matrix = r_array.T\n",
    "print(\"Transposed matrix:\\n\", transposed_matrix)\n"
   ]
  },
  {
   "cell_type": "code",
   "execution_count": 13,
   "id": "4a5134e4-faa9-4284-a676-b4adbe5b473d",
   "metadata": {},
   "outputs": [
    {
     "name": "stdout",
     "output_type": "stream",
     "text": [
      "Mean: 3.0\n",
      "Median: 3.0\n",
      "Standard Deviation: 1.4142135623730951\n",
      "Variance: 2.0\n"
     ]
    }
   ],
   "source": [
    "mean = np.mean(arr1)\n",
    "median = np.median(arr1)\n",
    "std_dev = np.std(arr1)\n",
    "variance = np.var(arr1)\n",
    "\n",
    "print(\"Mean:\", mean)\n",
    "print(\"Median:\", median)\n",
    "print(\"Standard Deviation:\", std_dev)\n",
    "print(\"Variance:\", variance)\n"
   ]
  },
  {
   "cell_type": "code",
   "execution_count": 14,
   "id": "a7fcc18a-5f2e-42e2-9a35-4af1716e644e",
   "metadata": {},
   "outputs": [
    {
     "name": "stdout",
     "output_type": "stream",
     "text": [
      "Integer array: [1 2 3]\n",
      "Float array: [1.1 2.2 3.3]\n",
      "Boolean array: [ True False  True]\n",
      "String array: ['a' 'b' 'c']\n"
     ]
    }
   ],
   "source": [
    "int_array = np.array([1, 2, 3], dtype=int)\n",
    "float_array = np.array([1.1, 2.2, 3.3], dtype=float)\n",
    "bool_array = np.array([True, False, True], dtype=bool)\n",
    "str_array = np.array(['a', 'b', 'c'], dtype=str)\n",
    "\n",
    "print(\"Integer array:\", int_array)\n",
    "print(\"Float array:\", float_array)\n",
    "print(\"Boolean array:\", bool_array)\n",
    "print(\"String array:\", str_array)\n"
   ]
  },
  {
   "cell_type": "code",
   "execution_count": 15,
   "id": "0c8deebb-0805-4f79-acd8-ed08f4559acc",
   "metadata": {},
   "outputs": [
    {
     "name": "stdout",
     "output_type": "stream",
     "text": [
      "Concatenated array: [1 2 3 4 5 6]\n"
     ]
    }
   ],
   "source": [
    "array1 = np.array([1, 2, 3])\n",
    "array2 = np.array([4, 5, 6])\n",
    "\n",
    "concatenated_array = np.concatenate((array1, array2))\n",
    "\n",
    "print(\"Concatenated array:\", concatenated_array)\n"
   ]
  },
  {
   "cell_type": "code",
   "execution_count": 16,
   "id": "ef68dca6-2bb8-4828-a810-e2eea7be7594",
   "metadata": {},
   "outputs": [
    {
     "name": "stdout",
     "output_type": "stream",
     "text": [
      "Sorted array (ascending): [1 2 3 4 5]\n",
      "Sorted array (descending): [5 4 3 2 1]\n"
     ]
    }
   ],
   "source": [
    "unsorted_array = np.array([3, 1, 2, 5, 4])\n",
    "\n",
    "# Ascending order\n",
    "sorted_array_asc = np.sort(unsorted_array)\n",
    "\n",
    "# Descending order\n",
    "sorted_array_desc = np.sort(unsorted_array)[::-1]\n",
    "\n",
    "print(\"Sorted array (ascending):\", sorted_array_asc)\n",
    "print(\"Sorted array (descending):\", sorted_array_desc)\n"
   ]
  },
  {
   "cell_type": "markdown",
   "id": "82e1cfe4-d56c-4753-9afc-9df61bf3c22d",
   "metadata": {},
   "source": [
    "## pandas"
   ]
  },
  {
   "cell_type": "code",
   "execution_count": 17,
   "id": "e3f35dc9-7434-4f5e-97a2-0ae854e0c6c4",
   "metadata": {},
   "outputs": [],
   "source": [
    "import pandas as pd\n",
    "\n",
    "# Load data from a CSV file\n",
    "df_csv = pd.read_csv('student data.csv')\n"
   ]
  },
  {
   "cell_type": "code",
   "execution_count": 18,
   "id": "12106763-2322-4d1f-aedc-e4ad36f11403",
   "metadata": {},
   "outputs": [
    {
     "name": "stdout",
     "output_type": "stream",
     "text": [
      "(50, 5)\n"
     ]
    }
   ],
   "source": [
    "# Get the shape of the DataFrame\n",
    "print(df_csv.shape)\n"
   ]
  },
  {
   "cell_type": "code",
   "execution_count": 19,
   "id": "ecd38da8-e91c-4296-bb00-995de57ff15e",
   "metadata": {},
   "outputs": [
    {
     "name": "stdout",
     "output_type": "stream",
     "text": [
      "roll no       int64\n",
      "Name         object\n",
      "Chemistry     int64\n",
      "Physics       int64\n",
      "Math          int64\n",
      "dtype: object\n"
     ]
    }
   ],
   "source": [
    "# Get the data types of each column\n",
    "print(df_csv.dtypes)\n"
   ]
  },
  {
   "cell_type": "code",
   "execution_count": 22,
   "id": "8629ad48-4ba0-466d-98b2-0e1f6721fbb9",
   "metadata": {},
   "outputs": [
    {
     "name": "stdout",
     "output_type": "stream",
     "text": [
      "roll no      0\n",
      "Name         0\n",
      "Chemistry    0\n",
      "Physics      0\n",
      "Math         0\n",
      "dtype: int64\n"
     ]
    }
   ],
   "source": [
    "# Check for missing values\n",
    "print(df_csv.isnull().sum())\n"
   ]
  },
  {
   "cell_type": "code",
   "execution_count": 23,
   "id": "ef155009-267f-450d-8b40-dbf4e02d549c",
   "metadata": {},
   "outputs": [
    {
     "name": "stdout",
     "output_type": "stream",
     "text": [
      "         roll no  Chemistry    Physics       Math\n",
      "count   50.00000  50.000000  50.000000  50.000000\n",
      "mean   125.50000  68.420000  65.060000  77.360000\n",
      "std     14.57738  14.116266  22.676437  14.789351\n",
      "min    101.00000  45.000000  23.000000  45.000000\n",
      "25%    113.25000  56.250000  47.500000  71.250000\n",
      "50%    125.50000  68.500000  73.500000  79.000000\n",
      "75%    137.75000  80.750000  82.750000  88.750000\n",
      "max    150.00000  92.000000  92.000000  98.000000\n"
     ]
    }
   ],
   "source": [
    "# Get descriptive statistics\n",
    "print(df_csv.describe())\n"
   ]
  },
  {
   "cell_type": "code",
   "execution_count": 26,
   "id": "ff498418-fdde-4be2-8fee-9e312e84376f",
   "metadata": {},
   "outputs": [
    {
     "name": "stdout",
     "output_type": "stream",
     "text": [
      "    roll no  Math\n",
      "0       101    87\n",
      "1       102    88\n",
      "2       103    89\n",
      "3       104    90\n",
      "4       105    67\n",
      "5       106    68\n",
      "6       107    69\n",
      "7       108    70\n",
      "8       109    71\n",
      "9       110    72\n",
      "10      111    73\n",
      "11      112    74\n",
      "12      113    75\n",
      "13      114    76\n",
      "14      115    77\n",
      "15      116    78\n",
      "16      117    79\n",
      "17      118    80\n",
      "18      119    81\n",
      "19      120    82\n",
      "20      121    83\n",
      "21      122    84\n",
      "22      123    85\n",
      "23      124    86\n",
      "24      125    87\n",
      "25      126    88\n",
      "26      127    89\n",
      "27      128    90\n",
      "28      129    91\n",
      "29      130    92\n",
      "30      131    93\n",
      "31      132    94\n",
      "32      133    95\n",
      "33      134    96\n",
      "34      135    97\n",
      "35      136    98\n",
      "36      137    78\n",
      "37      138    45\n",
      "38      139    46\n",
      "39      140    89\n",
      "40      141    78\n",
      "41      142    56\n",
      "42      143    78\n",
      "43      144    54\n",
      "44      145    78\n",
      "45      146    46\n",
      "46      147    79\n",
      "47      148    46\n",
      "48      149    45\n",
      "49      150    56\n"
     ]
    }
   ],
   "source": [
    "# Select specific columns\n",
    "selected_columns = df_csv[['roll no', 'Math']]\n",
    "print(selected_columns)"
   ]
  },
  {
   "cell_type": "code",
   "execution_count": 28,
   "id": "86c3c845-7e79-40b0-88f3-addeaa128c07",
   "metadata": {},
   "outputs": [
    {
     "name": "stdout",
     "output_type": "stream",
     "text": [
      "    roll no     Name  Chemistry  Physics  Math\n",
      "30      131    Wajid         74       88    93\n",
      "31      132   Waseeb         75       89    94\n",
      "32      133    Shiza         76       90    95\n",
      "33      134  Shabina         77       91    96\n",
      "34      135  Shazain         78       55    97\n",
      "35      136    Lubna         79       61    98\n"
     ]
    }
   ],
   "source": [
    "# Filter rows where column1 is greater than a certain value\n",
    "filtered_rows = df_csv[df_csv['Math'] > 92]\n",
    "print(filtered_rows)"
   ]
  }
 ],
 "metadata": {
  "kernelspec": {
   "display_name": "Python 3 (ipykernel)",
   "language": "python",
   "name": "python3"
  },
  "language_info": {
   "codemirror_mode": {
    "name": "ipython",
    "version": 3
   },
   "file_extension": ".py",
   "mimetype": "text/x-python",
   "name": "python",
   "nbconvert_exporter": "python",
   "pygments_lexer": "ipython3",
   "version": "3.12.4"
  }
 },
 "nbformat": 4,
 "nbformat_minor": 5
}
