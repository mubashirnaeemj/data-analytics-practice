{
 "cells": [
  {
   "cell_type": "markdown",
   "id": "504dfbb5-aea1-466d-83dc-3299a6632ea8",
   "metadata": {},
   "source": [
    "# Q1"
   ]
  },
  {
   "cell_type": "code",
   "execution_count": 1,
   "id": "9f066c1f-b08e-4e0a-b298-8690baf33436",
   "metadata": {},
   "outputs": [
    {
     "name": "stdout",
     "output_type": "stream",
     "text": [
      "*  \n",
      "*  *  \n",
      "*  *  *  \n",
      "*  *  *  *  \n",
      "*  *  *  *  *  \n",
      "*  *  *  *  \n",
      "*  *  *  \n",
      "*  *  \n",
      "*  \n"
     ]
    }
   ],
   "source": [
    "                                    ### using for loop ####\n",
    "# for i in range(1,5):\n",
    "#     print(\"* \" * i)\n",
    "# for j in range(5,0,-1):\n",
    "#     print(\"* \" *j)\n",
    "\n",
    "\n",
    "                    ##########using nested for loop################\n",
    "for i in range(1, 6):\n",
    "    for j in range(1, i+1 ):\n",
    "        print(\"* \", end=\" \")\n",
    "    print()\n",
    "for k in range(4, 0, -1):\n",
    "    for l in range(1, k + 1):\n",
    "        print(\"* \", end=\" \")\n",
    "    print()"
   ]
  },
  {
   "cell_type": "markdown",
   "id": "5800bfc8-9a08-4abf-a856-0f2ab475f1df",
   "metadata": {},
   "source": [
    "# Q2"
   ]
  },
  {
   "cell_type": "code",
   "execution_count": 2,
   "id": "c0ad4cd9-104c-4cd7-9181-a93a4a8c0c9d",
   "metadata": {},
   "outputs": [
    {
     "name": "stdin",
     "output_type": "stream",
     "text": [
      "enter a character:  A\n"
     ]
    },
    {
     "name": "stdout",
     "output_type": "stream",
     "text": [
      "a is a vowel.\n"
     ]
    }
   ],
   "source": [
    "char = input(\"enter a character: \")\n",
    "lower_char = char.lower()\n",
    "\n",
    "if lower_char in 'aeiou':\n",
    "    print(lower_char,\"is a vowel.\")\n",
    "else:\n",
    "    print(lower_char,\"is a consonant.\")"
   ]
  },
  {
   "cell_type": "markdown",
   "id": "ee05bc40-a4a7-4846-816e-2edc151cdbf4",
   "metadata": {},
   "source": [
    "# Q3"
   ]
  },
  {
   "cell_type": "code",
   "execution_count": 3,
   "id": "540a2490-c4b0-4db9-bd1a-04381a116c8a",
   "metadata": {},
   "outputs": [
    {
     "name": "stdin",
     "output_type": "stream",
     "text": [
      "enter intiger number:  8\n"
     ]
    },
    {
     "name": "stdout",
     "output_type": "stream",
     "text": [
      "8 x 1 = 8\n",
      "8 x 2 = 16\n",
      "8 x 3 = 24\n",
      "8 x 4 = 32\n",
      "8 x 5 = 40\n",
      "8 x 6 = 48\n",
      "8 x 7 = 56\n",
      "8 x 8 = 64\n",
      "8 x 9 = 72\n",
      "8 x 10 = 80\n"
     ]
    }
   ],
   "source": [
    "num = int(input(\"enter intiger number: \"))\n",
    "for i in range(1, 11):\n",
    "    print(num, \"x\", i, \"=\", num * i)"
   ]
  },
  {
   "cell_type": "markdown",
   "id": "56909d58-13e5-4187-8421-8e4f9a9ab4ac",
   "metadata": {},
   "source": [
    "# Q4"
   ]
  },
  {
   "cell_type": "code",
   "execution_count": 10,
   "id": "f71c9198-6ab9-46f3-bd69-f6d62f58dd2b",
   "metadata": {},
   "outputs": [
    {
     "name": "stdin",
     "output_type": "stream",
     "text": [
      "Guess a number between 1 and 9:  1\n"
     ]
    },
    {
     "name": "stdout",
     "output_type": "stream",
     "text": [
      "Try again!\n"
     ]
    },
    {
     "name": "stdin",
     "output_type": "stream",
     "text": [
      "Guess a number between 1 and 9:  2\n"
     ]
    },
    {
     "name": "stdout",
     "output_type": "stream",
     "text": [
      "Try again!\n"
     ]
    },
    {
     "name": "stdin",
     "output_type": "stream",
     "text": [
      "Guess a number between 1 and 9:  3\n"
     ]
    },
    {
     "name": "stdout",
     "output_type": "stream",
     "text": [
      "Try again!\n"
     ]
    },
    {
     "name": "stdin",
     "output_type": "stream",
     "text": [
      "Guess a number between 1 and 9:  4\n"
     ]
    },
    {
     "name": "stdout",
     "output_type": "stream",
     "text": [
      "Well guessed!\n"
     ]
    }
   ],
   "source": [
    "num = 4\n",
    "\n",
    "while True:\n",
    "    user_guess = int(input(\"Guess a number between 1 and 9: \"))\n",
    "    if user_guess == num:\n",
    "        print(\"Well guessed!\")\n",
    "        break\n",
    "-    else:\n",
    "        print(\"Try again!\")"
   ]
  },
  {
   "cell_type": "markdown",
   "id": "dab5d7d4-1f79-49b7-97c9-456abb4a7cd1",
   "metadata": {},
   "source": [
    "# Q5"
   ]
  },
  {
   "cell_type": "code",
   "execution_count": 29,
   "id": "a28702c9-90c5-4fac-810b-0de1ac5e1111",
   "metadata": {},
   "outputs": [
    {
     "name": "stdout",
     "output_type": "stream",
     "text": [
      "{'Cierra Vega': (6.2, 70)}\n"
     ]
    }
   ],
   "source": [
    "new_name = {}\n",
    "stu_name = {\n",
    "    'Cierra Vega': (6.2, 70), 'Alden Cantrell': (5.9, 65), \n",
    "    'Kierra Gentry': (6.0, 68), 'Pierre Cox': (5.8, 66)\n",
    "}\n",
    "for name, (height, weight) in stu_name.items():\n",
    "    # Height > 6ft and Weight> 70kg:\n",
    "    if height > 6 and weight >= 70:\n",
    "        new_name[name] = height,weight\n",
    "        print(new_name)"
   ]
  },
  {
   "cell_type": "markdown",
   "id": "276f77ea-ddb6-4df7-b992-42cdc502e35e",
   "metadata": {},
   "source": [
    "# Q6"
   ]
  },
  {
   "cell_type": "code",
   "execution_count": 44,
   "id": "66558b5f-ee7b-4382-afaa-3c499251dfc1",
   "metadata": {},
   "outputs": [
    {
     "name": "stdout",
     "output_type": "stream",
     "text": [
      "{'C1': [], 'C2': [], 'C3': []}\n"
     ]
    }
   ],
   "source": [
    "my_dict ={\n",
    "    'C1': [10, 20, 30], \n",
    "    'C2': [20, 30, 40], \n",
    "    'C3': [12, 34]\n",
    "}\n",
    "# for a,b in my_dic.items():\n",
    "#     b.clear()\n",
    "#     print(a,b)\n",
    "for key in my_dict:\n",
    "    my_dict[key].clear()\n",
    "print(my_dict)"
   ]
  },
  {
   "cell_type": "markdown",
   "id": "c516228b-f2d6-4940-a46e-6e86c360d024",
   "metadata": {},
   "source": [
    "# Q7"
   ]
  },
  {
   "cell_type": "code",
   "execution_count": 3,
   "id": "61a4ba79-e0ba-4a0c-befd-5be67259f2fa",
   "metadata": {},
   "outputs": [
    {
     "name": "stdout",
     "output_type": "stream",
     "text": [
      "The nile runs through egypy\n",
      "The congo runs through africa\n",
      "The amazon runs through south america\n",
      "\n",
      "nile\n",
      "congo\n",
      "amazon\n",
      "\n",
      "egypy\n",
      "africa\n",
      "south america\n"
     ]
    }
   ],
   "source": [
    "dict_river = {\n",
    "    'nile': 'egypy',\n",
    "    'congo': 'africa',\n",
    "    'amazon': 'south america'\n",
    "}\n",
    "for river, country in dict_river.items():\n",
    "    print(\"The\", river,\"runs through\",country)\n",
    "print()\n",
    "for river in dict_river.keys():\n",
    "    print(river)\n",
    "print()\n",
    "for country in dict_river.values():\n",
    "    print(country)  \n"
   ]
  },
  {
   "cell_type": "markdown",
   "id": "5b79ca00-b9fe-4b48-b5f9-73a1bea9d824",
   "metadata": {},
   "source": [
    "# Q8"
   ]
  },
  {
   "cell_type": "code",
   "execution_count": 61,
   "id": "bb7660d7-078d-44bd-bc88-a58601f75849",
   "metadata": {},
   "outputs": [
    {
     "name": "stdin",
     "output_type": "stream",
     "text": [
      "Please enter your age (or type -1 to exit):  2\n"
     ]
    },
    {
     "name": "stdout",
     "output_type": "stream",
     "text": [
      "The ticket is free.\n"
     ]
    },
    {
     "name": "stdin",
     "output_type": "stream",
     "text": [
      "Please enter your age (or type -1 to exit):  8\n"
     ]
    },
    {
     "name": "stdout",
     "output_type": "stream",
     "text": [
      "The ticket is $10.\n"
     ]
    },
    {
     "name": "stdin",
     "output_type": "stream",
     "text": [
      "Please enter your age (or type -1 to exit):  21\n"
     ]
    },
    {
     "name": "stdout",
     "output_type": "stream",
     "text": [
      "The ticket is $15.\n"
     ]
    },
    {
     "name": "stdin",
     "output_type": "stream",
     "text": [
      "Please enter your age (or type -1 to exit):  -1\n"
     ]
    },
    {
     "name": "stdout",
     "output_type": "stream",
     "text": [
      "Exiting the program. Have a great day!\n"
     ]
    }
   ],
   "source": [
    "while True:\n",
    "\n",
    "    age = int(input(\"Please enter your age (or type -1 to exit): \"))\n",
    "\n",
    "    if age == -1:\n",
    "        print(\"Exiting the program. Have a great day!\")\n",
    "        break\n",
    "\n",
    "    if age < 3:\n",
    "        print(\"The ticket is free.\")\n",
    "    elif 3 <= age <= 12:\n",
    "        print(\"The ticket is $10.\")\n",
    "    else:\n",
    "        print(\"The ticket is $15.\")\n"
   ]
  }
 ],
 "metadata": {
  "kernelspec": {
   "display_name": "Python 3 (ipykernel)",
   "language": "python",
   "name": "python3"
  },
  "language_info": {
   "codemirror_mode": {
    "name": "ipython",
    "version": 3
   },
   "file_extension": ".py",
   "mimetype": "text/x-python",
   "name": "python",
   "nbconvert_exporter": "python",
   "pygments_lexer": "ipython3",
   "version": "3.12.4"
  }
 },
 "nbformat": 4,
 "nbformat_minor": 5
}
