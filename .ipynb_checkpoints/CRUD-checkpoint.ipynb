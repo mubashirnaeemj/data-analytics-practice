{
 "cells": [
  {
   "cell_type": "code",
   "execution_count": 1,
   "id": "5ff4fd9a-90de-44c8-9714-30a68bb0739b",
   "metadata": {},
   "outputs": [
    {
     "name": "stdout",
     "output_type": "stream",
     "text": [
      "\n",
      "CRUD Application\n",
      "1. Create Entry\n",
      "2. Read Entries\n",
      "3. Update Entry\n",
      "4. Delete Entry\n",
      "5. Exit\n"
     ]
    },
    {
     "name": "stdin",
     "output_type": "stream",
     "text": [
      "Enter your choice:  1\n",
      "Enter ID:  89\n",
      "Enter Name:  Raqib\n",
      "Enter Age:  21\n",
      "Enter Email:  muhammadraqibkhan@gmail.com\n"
     ]
    },
    {
     "name": "stdout",
     "output_type": "stream",
     "text": [
      "Entry created successfully!\n",
      "\n",
      "CRUD Application\n",
      "1. Create Entry\n",
      "2. Read Entries\n",
      "3. Update Entry\n",
      "4. Delete Entry\n",
      "5. Exit\n"
     ]
    },
    {
     "name": "stdin",
     "output_type": "stream",
     "text": [
      "Enter your choice:  1\n",
      "Enter ID:  98\n",
      "Enter Name:  sharjeel\n",
      "Enter Age:  20\n",
      "Enter Email:  sharjeelahmedkhan@gmail.com\n"
     ]
    },
    {
     "name": "stdout",
     "output_type": "stream",
     "text": [
      "Entry created successfully!\n",
      "\n",
      "CRUD Application\n",
      "1. Create Entry\n",
      "2. Read Entries\n",
      "3. Update Entry\n",
      "4. Delete Entry\n",
      "5. Exit\n"
     ]
    },
    {
     "name": "stdin",
     "output_type": "stream",
     "text": [
      "Enter your choice:  2\n"
     ]
    },
    {
     "name": "stdout",
     "output_type": "stream",
     "text": [
      "{'id': '89', 'name': 'Raqib', 'age': '21', 'email': 'muhammadraqibkhan@gmail.com'}\n",
      "{'id': '98', 'name': 'sharjeel', 'age': '20', 'email': 'sharjeelahmedkhan@gmail.com'}\n",
      "\n",
      "CRUD Application\n",
      "1. Create Entry\n",
      "2. Read Entries\n",
      "3. Update Entry\n",
      "4. Delete Entry\n",
      "5. Exit\n"
     ]
    },
    {
     "name": "stdin",
     "output_type": "stream",
     "text": [
      "Enter your choice:  5\n"
     ]
    }
   ],
   "source": [
    "# Initialize an empty list to store the dictionaries\n",
    "data_list = []\n",
    "\n",
    "def create_entry():\n",
    "    entry = {}\n",
    "    entry['id'] = input(\"Enter ID: \")\n",
    "    entry['name'] = input(\"Enter Name: \")\n",
    "    entry['age'] = input(\"Enter Age: \")\n",
    "    entry['email'] = input(\"Enter Email: \")\n",
    "    data_list.append(entry)\n",
    "    print(\"Entry created successfully!\")\n",
    "\n",
    "def read_entries():\n",
    "    if not data_list:\n",
    "        print(\"No entries found.\")\n",
    "    else:\n",
    "        for entry in data_list:\n",
    "            print(entry)\n",
    "\n",
    "def update_entry():\n",
    "    entry_id = input(\"Enter the ID of the entry you want to update: \")\n",
    "    for entry in data_list:\n",
    "        if entry['id'] == entry_id:\n",
    "            entry['name'] = input(\"Enter new Name: \")\n",
    "            entry['age'] = input(\"Enter new Age: \")\n",
    "            entry['email'] = input(\"Enter new Email: \")\n",
    "            print(\"Entry updated successfully!\")\n",
    "            return\n",
    "    print(\"Entry not found.\")\n",
    "\n",
    "def delete_entry():\n",
    "    entry_id = input(\"Enter the ID of the entry you want to delete: \")\n",
    "    for entry in data_list:\n",
    "        if entry['id'] == entry_id:\n",
    "            data_list.remove(entry)\n",
    "            print(\"Entry deleted successfully!\")\n",
    "            return\n",
    "    print(\"Entry not found.\")\n",
    "\n",
    "def main():\n",
    "    while True:\n",
    "        print(\"\\nCRUD Application\")\n",
    "        print(\"1. Create Entry\")\n",
    "        print(\"2. Read Entries\")\n",
    "        print(\"3. Update Entry\")\n",
    "        print(\"4. Delete Entry\")\n",
    "        print(\"5. Exit\")\n",
    "        choice = input(\"Enter your choice: \")\n",
    "\n",
    "        if choice == '1':\n",
    "            create_entry()\n",
    "        elif choice == '2':\n",
    "            read_entries()\n",
    "        elif choice == '3':\n",
    "            update_entry()\n",
    "        elif choice == '4':\n",
    "            delete_entry()\n",
    "        elif choice == '5':\n",
    "            break\n",
    "        else:\n",
    "            print(\"Invalid choice. Please try again.\")\n",
    "\n",
    "if __name__ == \"__main__\":\n",
    "    main()\n"
   ]
  },
  {
   "cell_type": "code",
   "execution_count": 2,
   "id": "d969b259-3326-4a72-af6f-160c95f0ee8e",
   "metadata": {},
   "outputs": [
    {
     "name": "stdout",
     "output_type": "stream",
     "text": [
      "\n",
      "CRUD Application\n",
      "1. Create Entry\n",
      "2. Read Entries\n",
      "3. Update Entry\n",
      "4. Delete Entry\n",
      "5. Exit\n"
     ]
    },
    {
     "name": "stdin",
     "output_type": "stream",
     "text": [
      "Enter your choice:  1\n",
      "Enter ID:  1\n",
      "Enter Name:  1\n",
      "Enter Age:  1\n",
      "Enter Email:  1\n"
     ]
    },
    {
     "name": "stdout",
     "output_type": "stream",
     "text": [
      "Entry created successfully!\n",
      "\n",
      "CRUD Application\n",
      "1. Create Entry\n",
      "2. Read Entries\n",
      "3. Update Entry\n",
      "4. Delete Entry\n",
      "5. Exit\n"
     ]
    },
    {
     "name": "stdin",
     "output_type": "stream",
     "text": [
      "Enter your choice:  2\n"
     ]
    },
    {
     "name": "stdout",
     "output_type": "stream",
     "text": [
      "{'id': '1', 'name': '1', 'age': '1', 'email': '1'}\n",
      "\n",
      "CRUD Application\n",
      "1. Create Entry\n",
      "2. Read Entries\n",
      "3. Update Entry\n",
      "4. Delete Entry\n",
      "5. Exit\n"
     ]
    },
    {
     "name": "stdin",
     "output_type": "stream",
     "text": [
      "Enter your choice:  5\n"
     ]
    }
   ],
   "source": [
    "class CRUDApplication:\n",
    "    def __init__(self):\n",
    "        self.data_list = []\n",
    "\n",
    "    def create_entry(self):\n",
    "        entry = {}\n",
    "        entry['id'] = input(\"Enter ID: \")\n",
    "        entry['name'] = input(\"Enter Name: \")\n",
    "        entry['age'] = input(\"Enter Age: \")\n",
    "        entry['email'] = input(\"Enter Email: \")\n",
    "        self.data_list.append(entry)\n",
    "        print(\"Entry created successfully!\")\n",
    "\n",
    "    def read_entries(self):\n",
    "        if not self.data_list:\n",
    "            print(\"No entries found.\")\n",
    "        else:\n",
    "            for entry in self.data_list:\n",
    "                print(entry)\n",
    "\n",
    "    def update_entry(self):\n",
    "        entry_id = input(\"Enter the ID of the entry you want to update: \")\n",
    "        for entry in self.data_list:\n",
    "            if entry['id'] == entry_id:\n",
    "                entry['name'] = input(\"Enter new Name: \")\n",
    "                entry['age'] = input(\"Enter new Age: \")\n",
    "                entry['email'] = input(\"Enter new Email: \")\n",
    "                print(\"Entry updated successfully!\")\n",
    "                return\n",
    "        print(\"Entry not found.\")\n",
    "\n",
    "    def delete_entry(self):\n",
    "        entry_id = input(\"Enter the ID of the entry you want to delete: \")\n",
    "        for entry in self.data_list:\n",
    "            if entry['id'] == entry_id:\n",
    "                self.data_list.remove(entry)\n",
    "                print(\"Entry deleted successfully!\")\n",
    "                return\n",
    "        print(\"Entry not found.\")\n",
    "\n",
    "def main():\n",
    "    app = CRUDApplication()\n",
    "    while True:\n",
    "        print(\"\\nCRUD Application\")\n",
    "        print(\"1. Create Entry\")\n",
    "        print(\"2. Read Entries\")\n",
    "        print(\"3. Update Entry\")\n",
    "        print(\"4. Delete Entry\")\n",
    "        print(\"5. Exit\")\n",
    "        choice = input(\"Enter your choice: \")\n",
    "\n",
    "        if choice == '1':\n",
    "            app.create_entry()\n",
    "        elif choice == '2':\n",
    "            app.read_entries()\n",
    "        elif choice == '3':\n",
    "            app.update_entry()\n",
    "        elif choice == '4':\n",
    "            app.delete_entry()\n",
    "        elif choice == '5':\n",
    "            break\n",
    "        else:\n",
    "            print(\"Invalid choice. Please try again.\")\n",
    "\n",
    "if __name__ == \"__main__\":\n",
    "    main()\n"
   ]
  }
 ],
 "metadata": {
  "kernelspec": {
   "display_name": "Python 3 (ipykernel)",
   "language": "python",
   "name": "python3"
  },
  "language_info": {
   "codemirror_mode": {
    "name": "ipython",
    "version": 3
   },
   "file_extension": ".py",
   "mimetype": "text/x-python",
   "name": "python",
   "nbconvert_exporter": "python",
   "pygments_lexer": "ipython3",
   "version": "3.12.4"
  }
 },
 "nbformat": 4,
 "nbformat_minor": 5
}
