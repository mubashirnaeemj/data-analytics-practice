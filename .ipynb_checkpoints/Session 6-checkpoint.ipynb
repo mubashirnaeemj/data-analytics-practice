{
 "cells": [
  {
   "cell_type": "markdown",
   "id": "63803106-1e7b-4daf-b7c3-85e2d794b37b",
   "metadata": {
    "jp-MarkdownHeadingCollapsed": true
   },
   "source": [
    "# Session 6"
   ]
  },
  {
   "cell_type": "code",
   "execution_count": 5,
   "id": "09787f5b-7e28-46fc-bbe1-4f9fee0e6930",
   "metadata": {},
   "outputs": [
    {
     "data": {
      "text/plain": [
       "['20k', '30k', '56k', '100k', '300k', '89k']"
      ]
     },
     "execution_count": 5,
     "metadata": {},
     "output_type": "execute_result"
    }
   ],
   "source": [
    "salaries = [\"20k\",\"30k\",\"56k\",'100k','300k','89k']\n",
    "salaries"
   ]
  },
  {
   "cell_type": "code",
   "execution_count": 7,
   "id": "6b20dcea-63ab-4a64-b4a4-6f8a570a9145",
   "metadata": {},
   "outputs": [
    {
     "data": {
      "text/plain": [
       "6"
      ]
     },
     "execution_count": 7,
     "metadata": {},
     "output_type": "execute_result"
    }
   ],
   "source": [
    "len(salaries)"
   ]
  },
  {
   "cell_type": "code",
   "execution_count": 9,
   "id": "72207936-c34d-456d-80b3-a5759586541c",
   "metadata": {},
   "outputs": [
    {
     "data": {
      "text/plain": [
       "'30k'"
      ]
     },
     "execution_count": 9,
     "metadata": {},
     "output_type": "execute_result"
    }
   ],
   "source": [
    "salaries[1]"
   ]
  },
  {
   "cell_type": "code",
   "execution_count": 11,
   "id": "e611ed12-ca32-4351-97b5-f53e017735a2",
   "metadata": {},
   "outputs": [
    {
     "data": {
      "text/plain": [
       "'89k'"
      ]
     },
     "execution_count": 11,
     "metadata": {},
     "output_type": "execute_result"
    }
   ],
   "source": [
    "salaries[-1]"
   ]
  },
  {
   "cell_type": "code",
   "execution_count": 13,
   "id": "7792297c-f610-45d1-828e-39d894063ab2",
   "metadata": {},
   "outputs": [
    {
     "data": {
      "text/plain": [
       "'300k'"
      ]
     },
     "execution_count": 13,
     "metadata": {},
     "output_type": "execute_result"
    }
   ],
   "source": [
    "salaries[-2]"
   ]
  },
  {
   "cell_type": "code",
   "execution_count": 19,
   "id": "36c345ca-7706-4019-945f-d05e31e52c5e",
   "metadata": {},
   "outputs": [
    {
     "data": {
      "text/plain": [
       "['20k', '30k', '56k', '100k', '300k', '89k']"
      ]
     },
     "execution_count": 19,
     "metadata": {},
     "output_type": "execute_result"
    }
   ],
   "source": [
    "salaries"
   ]
  },
  {
   "cell_type": "code",
   "execution_count": 21,
   "id": "991d5457-7c2c-4888-bbee-75fda59935a0",
   "metadata": {},
   "outputs": [
    {
     "data": {
      "text/plain": [
       "['30k', '56k', '100k']"
      ]
     },
     "execution_count": 21,
     "metadata": {},
     "output_type": "execute_result"
    }
   ],
   "source": [
    "salaries[1:4]"
   ]
  },
  {
   "cell_type": "code",
   "execution_count": 23,
   "id": "20606ebf-b040-4760-a0a8-85a534cb1891",
   "metadata": {},
   "outputs": [
    {
     "data": {
      "text/plain": [
       "['100k', '300k', '89k']"
      ]
     },
     "execution_count": 23,
     "metadata": {},
     "output_type": "execute_result"
    }
   ],
   "source": [
    "salaries[3:]"
   ]
  },
  {
   "cell_type": "code",
   "execution_count": 27,
   "id": "b1b1a295-1f37-459d-b235-d42ae048ab89",
   "metadata": {},
   "outputs": [
    {
     "data": {
      "text/plain": [
       "['20k', '30k', '56k', '100k']"
      ]
     },
     "execution_count": 27,
     "metadata": {},
     "output_type": "execute_result"
    }
   ],
   "source": [
    "salaries[:4]"
   ]
  },
  {
   "cell_type": "code",
   "execution_count": 29,
   "id": "ea54dbcc-3051-41c8-97a0-ee205a2aaac2",
   "metadata": {
    "scrolled": true
   },
   "outputs": [
    {
     "data": {
      "text/plain": [
       "['20k', '30k', '56k', '100k', '300k', '89k']"
      ]
     },
     "execution_count": 29,
     "metadata": {},
     "output_type": "execute_result"
    }
   ],
   "source": [
    "salaries"
   ]
  },
  {
   "cell_type": "code",
   "execution_count": 33,
   "id": "adad3f34-6efb-4e73-b55d-5d74fb7b1691",
   "metadata": {},
   "outputs": [
    {
     "data": {
      "text/plain": [
       "['20k', '56k', '300k']"
      ]
     },
     "execution_count": 33,
     "metadata": {},
     "output_type": "execute_result"
    }
   ],
   "source": [
    "salaries[::2]"
   ]
  },
  {
   "cell_type": "code",
   "execution_count": 39,
   "id": "ebd882d8-51e9-4b23-81bb-c6a320ab23f6",
   "metadata": {},
   "outputs": [
    {
     "data": {
      "text/plain": [
       "['20k', '100k']"
      ]
     },
     "execution_count": 39,
     "metadata": {},
     "output_type": "execute_result"
    }
   ],
   "source": [
    "salaries[::3]"
   ]
  },
  {
   "cell_type": "code",
   "execution_count": 43,
   "id": "2f77c809-fe84-470d-a8b6-b2ecda609e74",
   "metadata": {},
   "outputs": [
    {
     "data": {
      "text/plain": [
       "['20k', '30k', '56k', '100k', '300k', '89k']"
      ]
     },
     "execution_count": 43,
     "metadata": {},
     "output_type": "execute_result"
    }
   ],
   "source": [
    "salaries"
   ]
  },
  {
   "cell_type": "code",
   "execution_count": 41,
   "id": "e81aeca4-1a83-4ebd-8117-e7a777fe302c",
   "metadata": {},
   "outputs": [
    {
     "data": {
      "text/plain": [
       "['89k', '100k', '30k']"
      ]
     },
     "execution_count": 41,
     "metadata": {},
     "output_type": "execute_result"
    }
   ],
   "source": [
    "salaries[::-2]"
   ]
  },
  {
   "cell_type": "code",
   "execution_count": 49,
   "id": "bd45cd22-f5b1-4ada-a90f-793673e7a589",
   "metadata": {},
   "outputs": [
    {
     "data": {
      "text/plain": [
       "['20k', '56k', '300k']"
      ]
     },
     "execution_count": 49,
     "metadata": {},
     "output_type": "execute_result"
    }
   ],
   "source": [
    "salaries[0:6:2]"
   ]
  },
  {
   "cell_type": "code",
   "execution_count": 51,
   "id": "0adab239-212f-452d-8961-4ebf0e024df1",
   "metadata": {},
   "outputs": [
    {
     "data": {
      "text/plain": [
       "['20k', '56k', '300k']"
      ]
     },
     "execution_count": 51,
     "metadata": {},
     "output_type": "execute_result"
    }
   ],
   "source": [
    "salaries[::2]"
   ]
  },
  {
   "cell_type": "code",
   "execution_count": 57,
   "id": "97eb1d35-de7f-424c-b234-ea9760abcc24",
   "metadata": {},
   "outputs": [
    {
     "data": {
      "text/plain": [
       "['20k', '30k', '56k', '100k', '300k', '89k']"
      ]
     },
     "execution_count": 57,
     "metadata": {},
     "output_type": "execute_result"
    }
   ],
   "source": [
    "salaries"
   ]
  },
  {
   "cell_type": "code",
   "execution_count": 55,
   "id": "4259ff90-1d49-4635-9dc8-609c1e87c268",
   "metadata": {},
   "outputs": [
    {
     "data": {
      "text/plain": [
       "['89k', '300k', '100k', '56k', '30k', '20k']"
      ]
     },
     "execution_count": 55,
     "metadata": {},
     "output_type": "execute_result"
    }
   ],
   "source": [
    "salaries[::-1]"
   ]
  },
  {
   "cell_type": "code",
   "execution_count": 59,
   "id": "d4d2b31b-51d7-49b7-8200-7b80a2f140aa",
   "metadata": {},
   "outputs": [
    {
     "data": {
      "text/plain": [
       "['89k', '100k', '30k']"
      ]
     },
     "execution_count": 59,
     "metadata": {},
     "output_type": "execute_result"
    }
   ],
   "source": [
    "salaries[::-2]"
   ]
  },
  {
   "cell_type": "code",
   "execution_count": 67,
   "id": "a76a4fde-c619-4a0f-b330-b245626231cc",
   "metadata": {},
   "outputs": [],
   "source": [
    "salaries.reverse()"
   ]
  },
  {
   "cell_type": "code",
   "execution_count": 69,
   "id": "5f4f4ad9-1f39-450d-841f-bac5012a4a7f",
   "metadata": {},
   "outputs": [
    {
     "data": {
      "text/plain": [
       "['89k', '300k', '100k', '56k', '30k', '20k']"
      ]
     },
     "execution_count": 69,
     "metadata": {},
     "output_type": "execute_result"
    }
   ],
   "source": [
    "salaries"
   ]
  },
  {
   "cell_type": "code",
   "execution_count": 78,
   "id": "d3a69fe5-7c7a-497c-bd52-289891cf9f0b",
   "metadata": {},
   "outputs": [
    {
     "data": {
      "text/plain": [
       "['89k', '300k', '100k', '56k', '30k', '20k']"
      ]
     },
     "execution_count": 78,
     "metadata": {},
     "output_type": "execute_result"
    }
   ],
   "source": [
    "salaries"
   ]
  },
  {
   "cell_type": "code",
   "execution_count": 80,
   "id": "0f18cc6e-7d9b-4133-bf32-d1e3e28ccd7a",
   "metadata": {},
   "outputs": [
    {
     "data": {
      "text/plain": [
       "['300k', '100k', '56k', '30k', '20k']"
      ]
     },
     "execution_count": 80,
     "metadata": {},
     "output_type": "execute_result"
    }
   ],
   "source": [
    "salaries[1:]"
   ]
  },
  {
   "cell_type": "code",
   "execution_count": 84,
   "id": "87dca9e4-65ab-4ca4-b0ba-6c9344e28f48",
   "metadata": {},
   "outputs": [
    {
     "data": {
      "text/plain": [
       "['89k', '300k', '100k', '56k', '30k', '20k']"
      ]
     },
     "execution_count": 84,
     "metadata": {},
     "output_type": "execute_result"
    }
   ],
   "source": [
    "salaries[::]"
   ]
  },
  {
   "cell_type": "code",
   "execution_count": 86,
   "id": "dd7e4bd6-bb8a-435a-b80b-ab6b52f1c96a",
   "metadata": {},
   "outputs": [
    {
     "data": {
      "text/plain": [
       "['20k', '30k', '56k', '100k', '300k', '89k']"
      ]
     },
     "execution_count": 86,
     "metadata": {},
     "output_type": "execute_result"
    }
   ],
   "source": [
    "salaries = [\"20k\",\"30k\",\"56k\",'100k','300k','89k']\n",
    "salaries"
   ]
  },
  {
   "cell_type": "code",
   "execution_count": 88,
   "id": "4a9d0f32-12b6-41ef-96fa-3dec35840777",
   "metadata": {},
   "outputs": [
    {
     "data": {
      "text/plain": [
       "'56k'"
      ]
     },
     "execution_count": 88,
     "metadata": {},
     "output_type": "execute_result"
    }
   ],
   "source": [
    "salaries[2]"
   ]
  },
  {
   "cell_type": "code",
   "execution_count": 90,
   "id": "06c0495b-2474-40e3-bfe1-d68c11a5a5e1",
   "metadata": {},
   "outputs": [],
   "source": [
    "salaries[2] = \"50k\""
   ]
  },
  {
   "cell_type": "code",
   "execution_count": 92,
   "id": "486da192-b3fb-4e4e-ad5f-899e13cc1b68",
   "metadata": {},
   "outputs": [
    {
     "data": {
      "text/plain": [
       "['20k', '30k', '50k', '100k', '300k', '89k']"
      ]
     },
     "execution_count": 92,
     "metadata": {},
     "output_type": "execute_result"
    }
   ],
   "source": [
    "salaries"
   ]
  },
  {
   "cell_type": "code",
   "execution_count": 94,
   "id": "ee71b23c-4c99-46c7-9540-8b8f6b0db9c9",
   "metadata": {},
   "outputs": [
    {
     "data": {
      "text/plain": [
       "['__add__',\n",
       " '__class__',\n",
       " '__class_getitem__',\n",
       " '__contains__',\n",
       " '__delattr__',\n",
       " '__delitem__',\n",
       " '__dir__',\n",
       " '__doc__',\n",
       " '__eq__',\n",
       " '__format__',\n",
       " '__ge__',\n",
       " '__getattribute__',\n",
       " '__getitem__',\n",
       " '__getstate__',\n",
       " '__gt__',\n",
       " '__hash__',\n",
       " '__iadd__',\n",
       " '__imul__',\n",
       " '__init__',\n",
       " '__init_subclass__',\n",
       " '__iter__',\n",
       " '__le__',\n",
       " '__len__',\n",
       " '__lt__',\n",
       " '__mul__',\n",
       " '__ne__',\n",
       " '__new__',\n",
       " '__reduce__',\n",
       " '__reduce_ex__',\n",
       " '__repr__',\n",
       " '__reversed__',\n",
       " '__rmul__',\n",
       " '__setattr__',\n",
       " '__setitem__',\n",
       " '__sizeof__',\n",
       " '__str__',\n",
       " '__subclasshook__',\n",
       " 'append',\n",
       " 'clear',\n",
       " 'copy',\n",
       " 'count',\n",
       " 'extend',\n",
       " 'index',\n",
       " 'insert',\n",
       " 'pop',\n",
       " 'remove',\n",
       " 'reverse',\n",
       " 'sort']"
      ]
     },
     "execution_count": 94,
     "metadata": {},
     "output_type": "execute_result"
    }
   ],
   "source": [
    "dir([])"
   ]
  },
  {
   "cell_type": "code",
   "execution_count": 96,
   "id": "c569afed-e9fa-4f1f-a662-4122ef6f424e",
   "metadata": {},
   "outputs": [],
   "source": [
    "# salaries[2] = \"50k\""
   ]
  },
  {
   "cell_type": "code",
   "execution_count": 98,
   "id": "68974609-03c0-4202-830d-edadcedde4ba",
   "metadata": {},
   "outputs": [
    {
     "data": {
      "text/plain": [
       "['20k', '30k', '50k', '100k', '300k', '89k']"
      ]
     },
     "execution_count": 98,
     "metadata": {},
     "output_type": "execute_result"
    }
   ],
   "source": [
    "salaries"
   ]
  },
  {
   "cell_type": "code",
   "execution_count": 100,
   "id": "366141c6-f73e-4836-90dd-c79c332372b8",
   "metadata": {},
   "outputs": [],
   "source": [
    "salaries.insert(3,\"200k\")"
   ]
  },
  {
   "cell_type": "code",
   "execution_count": 102,
   "id": "ea1fde8c-e633-42a6-9e4c-0eab5c087a03",
   "metadata": {},
   "outputs": [
    {
     "data": {
      "text/plain": [
       "['20k', '30k', '50k', '200k', '100k', '300k', '89k']"
      ]
     },
     "execution_count": 102,
     "metadata": {},
     "output_type": "execute_result"
    }
   ],
   "source": [
    "salaries"
   ]
  },
  {
   "cell_type": "code",
   "execution_count": 104,
   "id": "f86789c0-0faa-40fe-a707-5ad63e14cbb9",
   "metadata": {},
   "outputs": [],
   "source": [
    "salaries.append(\"100k\")"
   ]
  },
  {
   "cell_type": "code",
   "execution_count": 106,
   "id": "65991d86-830e-463e-aa55-73705b28657d",
   "metadata": {},
   "outputs": [
    {
     "data": {
      "text/plain": [
       "['20k', '30k', '50k', '200k', '100k', '300k', '89k', '100k']"
      ]
     },
     "execution_count": 106,
     "metadata": {},
     "output_type": "execute_result"
    }
   ],
   "source": [
    "salaries"
   ]
  },
  {
   "cell_type": "code",
   "execution_count": 108,
   "id": "8d159a7b-c0bd-41bb-8712-5a607b9282f5",
   "metadata": {},
   "outputs": [
    {
     "data": {
      "text/plain": [
       "['200k', '100k']"
      ]
     },
     "execution_count": 108,
     "metadata": {},
     "output_type": "execute_result"
    }
   ],
   "source": [
    "salaries[3:5]"
   ]
  },
  {
   "cell_type": "code",
   "execution_count": 110,
   "id": "34190bb2-11d4-4f91-bf51-3b7fa5f6e1be",
   "metadata": {},
   "outputs": [],
   "source": [
    "salaries[3:5] = [\"500k\",'600k']"
   ]
  },
  {
   "cell_type": "code",
   "execution_count": 112,
   "id": "45f6135a-9a24-4e3b-870e-7b4090c4d9cc",
   "metadata": {},
   "outputs": [
    {
     "data": {
      "text/plain": [
       "['20k', '30k', '50k', '500k', '600k', '300k', '89k', '100k']"
      ]
     },
     "execution_count": 112,
     "metadata": {},
     "output_type": "execute_result"
    }
   ],
   "source": [
    "salaries"
   ]
  },
  {
   "cell_type": "code",
   "execution_count": 120,
   "id": "29fe621c-24d0-4ebf-a390-fb9bdc72a0de",
   "metadata": {},
   "outputs": [
    {
     "data": {
      "text/plain": [
       "['36k', '38k', '78k', '23k']"
      ]
     },
     "execution_count": 120,
     "metadata": {},
     "output_type": "execute_result"
    }
   ],
   "source": [
    "update_salaries = [\"36k\",\"38k\",'78k',\"23k\"]\n",
    "update_salaries"
   ]
  },
  {
   "cell_type": "code",
   "execution_count": 124,
   "id": "7e84fc46-3564-470e-9415-ca7f8560bd5e",
   "metadata": {},
   "outputs": [],
   "source": [
    "salaries.extend(update_salaries)"
   ]
  },
  {
   "cell_type": "code",
   "execution_count": 126,
   "id": "73ccd217-eae9-45e3-bbeb-6d0f48085a78",
   "metadata": {},
   "outputs": [
    {
     "data": {
      "text/plain": [
       "['20k',\n",
       " '30k',\n",
       " '50k',\n",
       " '500k',\n",
       " '600k',\n",
       " '300k',\n",
       " '89k',\n",
       " '100k',\n",
       " '36k',\n",
       " '38k',\n",
       " '78k',\n",
       " '23k']"
      ]
     },
     "execution_count": 126,
     "metadata": {},
     "output_type": "execute_result"
    }
   ],
   "source": [
    "salaries"
   ]
  },
  {
   "cell_type": "code",
   "execution_count": 130,
   "id": "3c229879-d53f-4e8d-9ee6-a340277de54a",
   "metadata": {},
   "outputs": [
    {
     "data": {
      "text/plain": [
       "6"
      ]
     },
     "execution_count": 130,
     "metadata": {},
     "output_type": "execute_result"
    }
   ],
   "source": [
    "salaries.index(\"89k\")"
   ]
  },
  {
   "cell_type": "code",
   "execution_count": 132,
   "id": "6bda0bf4-e918-4b96-9428-5af107440dd7",
   "metadata": {},
   "outputs": [
    {
     "data": {
      "text/plain": [
       "['20k',\n",
       " '30k',\n",
       " '50k',\n",
       " '500k',\n",
       " '600k',\n",
       " '300k',\n",
       " '89k',\n",
       " '100k',\n",
       " '36k',\n",
       " '38k',\n",
       " '78k',\n",
       " '23k']"
      ]
     },
     "execution_count": 132,
     "metadata": {},
     "output_type": "execute_result"
    }
   ],
   "source": [
    "salaries"
   ]
  },
  {
   "cell_type": "code",
   "execution_count": 134,
   "id": "1f4c4a91-60ba-4db5-b2f9-e4ad28bdd5e3",
   "metadata": {},
   "outputs": [
    {
     "data": {
      "text/plain": [
       "'89k'"
      ]
     },
     "execution_count": 134,
     "metadata": {},
     "output_type": "execute_result"
    }
   ],
   "source": [
    "salaries.pop(6)"
   ]
  },
  {
   "cell_type": "code",
   "execution_count": 136,
   "id": "802ee4b6-fcf8-4fa8-a420-6670c5f3e852",
   "metadata": {},
   "outputs": [
    {
     "data": {
      "text/plain": [
       "['20k',\n",
       " '30k',\n",
       " '50k',\n",
       " '500k',\n",
       " '600k',\n",
       " '300k',\n",
       " '100k',\n",
       " '36k',\n",
       " '38k',\n",
       " '78k',\n",
       " '23k']"
      ]
     },
     "execution_count": 136,
     "metadata": {},
     "output_type": "execute_result"
    }
   ],
   "source": [
    "salaries"
   ]
  },
  {
   "cell_type": "code",
   "execution_count": 138,
   "id": "4e316437-420c-4ce9-ae62-58f3c7b76d19",
   "metadata": {},
   "outputs": [
    {
     "data": {
      "text/plain": [
       "'23k'"
      ]
     },
     "execution_count": 138,
     "metadata": {},
     "output_type": "execute_result"
    }
   ],
   "source": [
    "salaries.pop()"
   ]
  },
  {
   "cell_type": "code",
   "execution_count": 140,
   "id": "0158ad41-da2c-4522-9b15-c064b36f5db9",
   "metadata": {},
   "outputs": [
    {
     "data": {
      "text/plain": [
       "['20k', '30k', '50k', '500k', '600k', '300k', '100k', '36k', '38k', '78k']"
      ]
     },
     "execution_count": 140,
     "metadata": {},
     "output_type": "execute_result"
    }
   ],
   "source": [
    "salaries"
   ]
  },
  {
   "cell_type": "code",
   "execution_count": 142,
   "id": "6c4c4a17-21e6-49a9-a58b-59f8422322af",
   "metadata": {},
   "outputs": [],
   "source": [
    "salaries.remove(\"600k\")"
   ]
  },
  {
   "cell_type": "code",
   "execution_count": 144,
   "id": "678a814e-9a00-4ec3-9e17-8f4cd3f7b5eb",
   "metadata": {},
   "outputs": [
    {
     "data": {
      "text/plain": [
       "['20k', '30k', '50k', '500k', '300k', '100k', '36k', '38k', '78k']"
      ]
     },
     "execution_count": 144,
     "metadata": {},
     "output_type": "execute_result"
    }
   ],
   "source": [
    "salaries"
   ]
  },
  {
   "cell_type": "code",
   "execution_count": 146,
   "id": "24867d67-da19-40c2-8d52-326b25556acc",
   "metadata": {},
   "outputs": [
    {
     "ename": "TypeError",
     "evalue": "list.remove() takes exactly one argument (0 given)",
     "output_type": "error",
     "traceback": [
      "\u001b[1;31m---------------------------------------------------------------------------\u001b[0m",
      "\u001b[1;31mTypeError\u001b[0m                                 Traceback (most recent call last)",
      "Cell \u001b[1;32mIn[146], line 1\u001b[0m\n\u001b[1;32m----> 1\u001b[0m salaries\u001b[38;5;241m.\u001b[39mremove()\n",
      "\u001b[1;31mTypeError\u001b[0m: list.remove() takes exactly one argument (0 given)"
     ]
    }
   ],
   "source": [
    "salaries.remove()"
   ]
  },
  {
   "cell_type": "code",
   "execution_count": 148,
   "id": "82e6fd44-70e9-4046-b47c-7443e8157897",
   "metadata": {},
   "outputs": [
    {
     "data": {
      "text/plain": [
       "['20k', '30k', '50k', '500k', '300k', '100k', '36k', '38k', '78k']"
      ]
     },
     "execution_count": 148,
     "metadata": {},
     "output_type": "execute_result"
    }
   ],
   "source": [
    "salaries"
   ]
  },
  {
   "cell_type": "code",
   "execution_count": 150,
   "id": "cef1d1fc-cb44-4502-816a-8128e22ee65c",
   "metadata": {},
   "outputs": [
    {
     "data": {
      "text/plain": [
       "['50k', '100k']"
      ]
     },
     "execution_count": 150,
     "metadata": {},
     "output_type": "execute_result"
    }
   ],
   "source": [
    "salaries[2:6:3]"
   ]
  },
  {
   "cell_type": "code",
   "execution_count": null,
   "id": "b2906ba0-9c64-4962-83c2-0a56b7616d1e",
   "metadata": {},
   "outputs": [],
   "source": []
  }
 ],
 "metadata": {
  "kernelspec": {
   "display_name": "Python 3 (ipykernel)",
   "language": "python",
   "name": "python3"
  },
  "language_info": {
   "codemirror_mode": {
    "name": "ipython",
    "version": 3
   },
   "file_extension": ".py",
   "mimetype": "text/x-python",
   "name": "python",
   "nbconvert_exporter": "python",
   "pygments_lexer": "ipython3",
   "version": "3.12.4"
  }
 },
 "nbformat": 4,
 "nbformat_minor": 5
}
