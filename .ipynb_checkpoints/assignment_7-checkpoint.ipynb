{
 "cells": [
  {
   "cell_type": "code",
   "execution_count": 12,
   "id": "a18e4f24-611b-47c3-8a51-072d36182f60",
   "metadata": {},
   "outputs": [
    {
     "name": "stdout",
     "output_type": "stream",
     "text": [
      "Name: Alice Smith\n",
      "Number: 67890\n",
      "Address: 456 Elm St\n",
      "Salary: 60000\n",
      "Name: Alice Smith\n",
      "Number: 67890\n",
      "Address: 456 Elm St\n",
      "Salary: 60000\n",
      "Post: Manager\n",
      "Year of joining: 2010\n",
      "Education: Master's Degree\n",
      "Year of Experience: 14\n",
      "Updated Years of Experience: 15\n",
      "New Salary: 67000\n",
      "Name: Alice Smith\n",
      "Number: 67890\n",
      "Address: 456 Elm St\n",
      "Salary: 67000\n",
      "Post: Manager\n",
      "Year of joining: 2010\n",
      "Education: Master's Degree\n",
      "Year of Experience: 15\n"
     ]
    }
   ],
   "source": [
    "class Employee:\n",
    "    def __init__(self, name, number, address, salary, post, year_of_joining, education, years_of_experience):\n",
    "        self.name = name\n",
    "        self.number = number\n",
    "        self.address = address\n",
    "        self.salary = salary\n",
    "        self.post = post\n",
    "        self.year_of_joining = year_of_joining\n",
    "        self.education = education\n",
    "        self.years_of_experience = years_of_experience\n",
    "\n",
    "        ######################   Q2    #######################3    \n",
    "\n",
    "    def describe_employee(self):\n",
    "        print(\"Name:\", self.name)\n",
    "        print(\"Number:\", self.number)\n",
    "        print(\"Address:\", self.address)\n",
    "        print(\"Salary:\", self.salary)\n",
    "        print(\"Post:\", self.post)\n",
    "        print(\"Year of joining:\", self.year_of_joining)\n",
    "        print(\"Education:\", self.education)\n",
    "        print(\"Year of Experience:\", self.years_of_experience)\n",
    "\n",
    "    def update_year_of_experience(self, new_experience):\n",
    "        self.years_of_experience = new_experience\n",
    "        print(f\"Updated Years of Experience: {self.years_of_experience}\")\n",
    "\n",
    "    def increase_salary(self, increment):\n",
    "        self.salary += increment\n",
    "        print(f\"New Salary: {self.salary}\")\n",
    "\n",
    "        ###################   Q3  ######################\n",
    "# Creating an instance called employee101\n",
    "employee101 = Employee(\"Alice Smith\", \"67890\", \"456 Elm St\", 60000, \"Manager\", 2010, \"Master's Degree\", 14)\n",
    "\n",
    "# Printing four attributes individually\n",
    "print(f\"Name: {employee101.name}\")\n",
    "print(f\"Number: {employee101.number}\")\n",
    "print(f\"Address: {employee101.address}\")\n",
    "print(f\"Salary: {employee101.salary}\")\n",
    "\n",
    "# Calling all methods\n",
    "employee101.describe_employee()\n",
    "employee101.update_year_of_experience(15)\n",
    "employee101.increase_salary(7000)\n",
    "employee101.describe_employee()"
   ]
  }
 ],
 "metadata": {
  "kernelspec": {
   "display_name": "Python 3 (ipykernel)",
   "language": "python",
   "name": "python3"
  },
  "language_info": {
   "codemirror_mode": {
    "name": "ipython",
    "version": 3
   },
   "file_extension": ".py",
   "mimetype": "text/x-python",
   "name": "python",
   "nbconvert_exporter": "python",
   "pygments_lexer": "ipython3",
   "version": "3.12.4"
  }
 },
 "nbformat": 4,
 "nbformat_minor": 5
}
