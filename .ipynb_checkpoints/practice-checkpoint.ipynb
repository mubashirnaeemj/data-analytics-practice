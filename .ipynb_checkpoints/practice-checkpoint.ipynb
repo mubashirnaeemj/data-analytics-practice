{
 "cells": [
  {
   "cell_type": "code",
   "execution_count": 1,
   "id": "be941f59-9f96-48cf-b352-3ff74a3bed7e",
   "metadata": {},
   "outputs": [
    {
     "name": "stdout",
     "output_type": "stream",
     "text": [
      "The largest value is: 8\n"
     ]
    }
   ],
   "source": [
    "########          finding largest element in list          #########\n",
    "\n",
    "def find_largest_value(numbers):\n",
    "    if not numbers:  # Check if the list is empty\n",
    "        return None\n",
    "    largest = numbers[0]\n",
    "    for number in numbers:\n",
    "        if number > largest:\n",
    "            largest = number\n",
    "    return largest\n",
    "\n",
    "# Example usage\n",
    "numbers = [3, 5, 7, 2, 8, 1]\n",
    "print(\"The largest value is:\", find_largest_value(numbers))\n"
   ]
  },
  {
   "cell_type": "code",
   "execution_count": 6,
   "id": "beeb0b49-5702-4e0b-bb77-e09af5fa8ca0",
   "metadata": {},
   "outputs": [
    {
     "name": "stdout",
     "output_type": "stream",
     "text": [
      "list1 = [10, 'a']\n",
      "list2 = [123]\n",
      "list3 = [10, 'a']\n"
     ]
    }
   ],
   "source": [
    "def extendList(val, list=[]):\n",
    "    list.append(val)\n",
    "    return list\n",
    "\n",
    "list1 = extendList(10)\n",
    "list2 = extendList(123, [])\n",
    "list3 = extendList('a')\n",
    "\n",
    "print(\"list1 =\", list1)\n",
    "print(\"list2 =\", list2)\n",
    "print(\"list3 =\", list3)\n"
   ]
  },
  {
   "cell_type": "code",
   "execution_count": 2,
   "id": "40c85385-81ed-4717-b374-cb48ad6d29f6",
   "metadata": {},
   "outputs": [
    {
     "name": "stdin",
     "output_type": "stream",
     "text": [
      "Enter sentance you want to print in reverse order:  my name is mubashir.\n"
     ]
    },
    {
     "name": "stdout",
     "output_type": "stream",
     "text": [
      "Original string: my name is mubashir.\n",
      "Reversed string: .rihsabum si eman ym\n"
     ]
    }
   ],
   "source": [
    "###########    CODE TO PRINT WORD IN REVERSE ORDER ##############\n",
    "def reverse_string(s):\n",
    "    reversed_str = \"\"\n",
    "    for char in s:\n",
    "        reversed_str = char + reversed_str\n",
    "    return reversed_str\n",
    "\n",
    "# Example usage\n",
    "# original_string = \"hello\"\n",
    "original_string = input(\"Enter sentance you want to print in reverse order: \")\n",
    "print(\"Original string:\", original_string)\n",
    "print(\"Reversed string:\", reverse_string(original_string))\n"
   ]
  },
  {
   "cell_type": "code",
   "execution_count": 11,
   "id": "793151dd-b83f-460e-8648-3223f582e47c",
   "metadata": {},
   "outputs": [
    {
     "name": "stdout",
     "output_type": "stream",
     "text": [
      "[1, 2, 3, 4, 5]\n",
      "[1, 2, 3, 4, 5]\n"
     ]
    }
   ],
   "source": [
    "a = [1, 2, 3, 4]\n",
    "#### The value of \"b\"\" is same as the value of \"a\"  #### \n",
    "b = a\n",
    "####  We add \"5\" in \"b\" ####\n",
    "b.append(5)\n",
    "print(b)\n",
    "print(a)\n"
   ]
  },
  {
   "cell_type": "code",
   "execution_count": 6,
   "id": "d9d99b8e-fc91-42dc-b1fd-2475e4bd7dc4",
   "metadata": {},
   "outputs": [
    {
     "name": "stdout",
     "output_type": "stream",
     "text": [
      "[1, 2, 3, 4, 5]\n"
     ]
    }
   ],
   "source": [
    "def remove_duplicates(lst):\n",
    "    lst_1 = []\n",
    "    for num in lst:\n",
    "        if num not in lst_1:\n",
    "            lst_1.append(num)\n",
    "    print(lst_1)\n",
    "\n",
    "remove_duplicates([1, 2, 2, 3, 4, 4, 5])"
   ]
  },
  {
   "cell_type": "code",
   "execution_count": 7,
   "id": "383ad94a-04c9-4600-addd-270af0465fd1",
   "metadata": {},
   "outputs": [
    {
     "name": "stdout",
     "output_type": "stream",
     "text": [
      "[1]\n",
      "[1, 2]\n",
      "[3]\n",
      "[1, 2, 4]\n"
     ]
    }
   ],
   "source": [
    "def func(x, y=[]):\n",
    "    y.append(x)\n",
    "    return y\n",
    "\n",
    "print(func(1))\n",
    "print(func(2))\n",
    "print(func(3, []))\n",
    "print(func(4))\n"
   ]
  },
  {
   "cell_type": "code",
   "execution_count": 1,
   "id": "5add36c4-7f13-45df-a4f8-59e17b7bc48f",
   "metadata": {},
   "outputs": [
    {
     "name": "stdout",
     "output_type": "stream",
     "text": [
      "Element is present at index 3\n"
     ]
    }
   ],
   "source": [
    "#######       BINARY SEARCH      #######\n",
    "def binary_search_recursive(arr, low, high, x):\n",
    "    if high >= low:\n",
    "        mid = (high + low) // 2\n",
    "\n",
    "        if arr[mid] == x:\n",
    "            return mid\n",
    "        elif arr[mid] > x:\n",
    "            return binary_search_recursive(arr, low, mid - 1, x)\n",
    "        else:\n",
    "            return binary_search_recursive(arr, mid + 1, high, x)\n",
    "    else:\n",
    "        return -1\n",
    "\n",
    "# Example usage\n",
    "arr = [2, 3, 4, 10, 40]\n",
    "x = 10\n",
    "result = binary_search_recursive(arr, 0, len(arr) - 1, x)\n",
    "\n",
    "if result != -1:\n",
    "    print(f\"Element is present at index {result}\")\n",
    "else:\n",
    "    print(\"Element is not present in array\")\n"
   ]
  },
  {
   "cell_type": "code",
   "execution_count": 2,
   "id": "f0085f4f-e8ef-4f1c-8776-caee9f50049e",
   "metadata": {},
   "outputs": [
    {
     "name": "stdout",
     "output_type": "stream",
     "text": [
      "odd 1\n",
      "even 2\n",
      "odd 3\n",
      "even 4\n",
      "odd 5\n",
      "even 6\n",
      "odd 7\n",
      "even 8\n",
      "odd 9\n",
      "even 10\n",
      "odd 11\n",
      "even 12\n",
      "odd 13\n",
      "even 14\n",
      "odd 15\n",
      "even 16\n",
      "odd 17\n",
      "even 18\n",
      "odd 19\n",
      "even 20\n",
      "odd 21\n",
      "even 22\n",
      "odd 23\n",
      "even 24\n",
      "odd 25\n",
      "even 26\n",
      "odd 27\n",
      "even 28\n",
      "odd 29\n",
      "even 30\n",
      "odd 31\n",
      "even 32\n",
      "odd 33\n",
      "even 34\n",
      "odd 35\n",
      "even 36\n",
      "odd 37\n",
      "even 38\n",
      "odd 39\n",
      "even 40\n",
      "odd 41\n",
      "even 42\n",
      "odd 43\n",
      "even 44\n",
      "odd 45\n",
      "even 46\n",
      "odd 47\n",
      "even 48\n",
      "odd 49\n",
      "even 50\n",
      "odd 51\n",
      "even 52\n",
      "odd 53\n",
      "even 54\n",
      "odd 55\n",
      "even 56\n",
      "odd 57\n",
      "even 58\n",
      "odd 59\n",
      "even 60\n",
      "odd 61\n",
      "even 62\n",
      "odd 63\n",
      "even 64\n",
      "odd 65\n",
      "even 66\n",
      "odd 67\n",
      "even 68\n",
      "odd 69\n",
      "even 70\n",
      "odd 71\n",
      "even 72\n",
      "odd 73\n",
      "even 74\n",
      "odd 75\n",
      "even 76\n",
      "odd 77\n",
      "even 78\n",
      "odd 79\n",
      "even 80\n",
      "odd 81\n",
      "even 82\n",
      "odd 83\n",
      "even 84\n",
      "odd 85\n",
      "even 86\n",
      "odd 87\n",
      "even 88\n",
      "odd 89\n",
      "even 90\n",
      "odd 91\n",
      "even 92\n",
      "odd 93\n",
      "even 94\n",
      "odd 95\n",
      "even 96\n",
      "odd 97\n",
      "even 98\n",
      "odd 99\n"
     ]
    }
   ],
   "source": [
    "######### Code for printing \"EVEN\" and \"ODD\" numbers from 1 to 100  ###########\n",
    "for num in range(1,100):\n",
    "    if num % 2 == 0:\n",
    "        print(\"even\", num)\n",
    "    elif num % 2 == 1:\n",
    "        print(\"odd\", num)\n",
    "    else:\n",
    "        print(num)"
   ]
  },
  {
   "cell_type": "markdown",
   "id": "8c208725-b347-4a9e-9652-5b88a74cc978",
   "metadata": {},
   "source": [
    "#### FizzBuzz: Write a Python program that prints the numbers from 1 to 100. For multiples of 3, print \"Fizz\" instead of the number, and for multiples of 5, print \"Buzz\". For numbers that are multiples of both 3 and 5, print \"FizzBuzz\"."
   ]
  },
  {
   "cell_type": "code",
   "execution_count": 3,
   "id": "331ab190-d78a-46ba-81c1-eadcd4ff2539",
   "metadata": {},
   "outputs": [
    {
     "name": "stdout",
     "output_type": "stream",
     "text": [
      "1\n",
      "2\n",
      "Fizz\n",
      "4\n",
      "Buzz\n",
      "Fizz\n",
      "7\n",
      "8\n",
      "Fizz\n",
      "Buzz\n",
      "11\n",
      "Fizz\n",
      "13\n",
      "14\n",
      "Fizz\n",
      "16\n",
      "17\n",
      "Fizz\n",
      "19\n",
      "Buzz\n",
      "Fizz\n",
      "22\n",
      "23\n",
      "Fizz\n",
      "Buzz\n",
      "26\n",
      "Fizz\n",
      "28\n",
      "29\n",
      "Fizz\n",
      "31\n",
      "32\n",
      "Fizz\n",
      "34\n",
      "Buzz\n",
      "Fizz\n",
      "37\n",
      "38\n",
      "Fizz\n",
      "Buzz\n",
      "41\n",
      "Fizz\n",
      "43\n",
      "44\n",
      "Fizz\n",
      "46\n",
      "47\n",
      "Fizz\n",
      "49\n",
      "Buzz\n",
      "Fizz\n",
      "52\n",
      "53\n",
      "Fizz\n",
      "Buzz\n",
      "56\n",
      "Fizz\n",
      "58\n",
      "59\n",
      "Fizz\n",
      "61\n",
      "62\n",
      "Fizz\n",
      "64\n",
      "Buzz\n",
      "Fizz\n",
      "67\n",
      "68\n",
      "Fizz\n",
      "Buzz\n",
      "71\n",
      "Fizz\n",
      "73\n",
      "74\n",
      "Fizz\n",
      "76\n",
      "77\n",
      "Fizz\n",
      "79\n",
      "Buzz\n",
      "Fizz\n",
      "82\n",
      "83\n",
      "Fizz\n",
      "Buzz\n",
      "86\n",
      "Fizz\n",
      "88\n",
      "89\n",
      "Fizz\n",
      "91\n",
      "92\n",
      "Fizz\n",
      "94\n",
      "Buzz\n",
      "Fizz\n",
      "97\n",
      "98\n",
      "Fizz\n"
     ]
    }
   ],
   "source": [
    "for num in range(1,100):\n",
    "    if num % 3 == 0:\n",
    "        print(\"Fizz\")\n",
    "    elif num % 5 == 0:\n",
    "        print(\"Buzz\")\n",
    "    elif num % 5 == 0 and num % 3 == 0:\n",
    "        print(\"FizzBuzz\")\n",
    "    else:\n",
    "        print(num)"
   ]
  },
  {
   "cell_type": "markdown",
   "id": "ddd937e5-f354-4b8a-890b-e6c070f0dc51",
   "metadata": {},
   "source": [
    "##                    CALCULATOR"
   ]
  },
  {
   "cell_type": "code",
   "execution_count": 4,
   "id": "d8ef4d18-48a8-4652-b12f-f208feaaeb92",
   "metadata": {},
   "outputs": [
    {
     "name": "stdin",
     "output_type": "stream",
     "text": [
      "Enter the first number:  5\n",
      "Enter the second number:  8\n",
      "Enter 1 for multiplication, 2 for division, 3 for addition, or 4 for subtraction:  3\n"
     ]
    },
    {
     "name": "stdout",
     "output_type": "stream",
     "text": [
      "13.0\n"
     ]
    }
   ],
   "source": [
    "num_1 = float(input(\"Enter the first number: \"))\n",
    "num_2 = float(input(\"Enter the second number: \"))\n",
    "sel = int(input(\"Enter 1 for multiplication, 2 for division, 3 for addition, or 4 for subtraction: \"))\n",
    "\n",
    "if sel == 1:\n",
    "    a = num_1 * num_2\n",
    "    print(a)\n",
    "elif sel == 2:\n",
    "    a = num_1 / num_2\n",
    "    print(a)\n",
    "elif sel == 3:\n",
    "    a = num_1 + num_2\n",
    "    print(a)\n",
    "elif sel == 4:\n",
    "    a = num_1 - num_2\n",
    "    print('the value is' ,a)\n",
    "else:\n",
    "    print('ENTER NUMBER FROM 1 TO 4')"
   ]
  },
  {
   "cell_type": "markdown",
   "id": "5583f694-d960-4504-8523-f217618eca4a",
   "metadata": {},
   "source": [
    "## Create a program that takes a list of numbers as input and: \n",
    "#### Finds the largest and smallest numbers. \n",
    "#### Calculates the average and median. \n",
    "#### Determines if the list is sorted in ascending or descending order."
   ]
  },
  {
   "cell_type": "code",
   "execution_count": 5,
   "id": "8cc3d15c-537a-4678-a62e-a8b5359216e6",
   "metadata": {},
   "outputs": [
    {
     "name": "stdout",
     "output_type": "stream",
     "text": [
      "Largest number: 15\n",
      "Smallest number: 3\n",
      "Average: 8.20\n",
      "Median: 8.00\n",
      "Sorting order: ascending\n"
     ]
    }
   ],
   "source": [
    "def analyze_list(numbers):\n",
    "    # Find the largest and smallest numbers\n",
    "    largest = smallest = numbers[0]\n",
    "    for num in numbers:\n",
    "        if num > largest:\n",
    "            largest = num\n",
    "        elif num < smallest:\n",
    "            smallest = num\n",
    "\n",
    "    # Calculate the average\n",
    "    total = sum(numbers)\n",
    "    average = total / len(numbers)\n",
    "\n",
    "    # Determine the median\n",
    "    sorted_numbers = sorted(numbers)\n",
    "    middle_index = len(numbers) // 2\n",
    "    if len(numbers) % 2 == 0:\n",
    "        median = (sorted_numbers[middle_index - 1] + sorted_numbers[middle_index]) / 2\n",
    "    else:\n",
    "        median = sorted_numbers[middle_index]\n",
    "\n",
    "    # Check if the list is sorted\n",
    "    is_ascending = all(sorted_numbers[i] <= sorted_numbers[i + 1] for i in range(len(numbers) - 1))\n",
    "    is_descending = all(sorted_numbers[i] >= sorted_numbers[i + 1] for i in range(len(numbers) - 1))\n",
    "\n",
    "    if is_ascending:\n",
    "        sorting_order = \"ascending\"\n",
    "    elif is_descending:\n",
    "        sorting_order = \"descending\"\n",
    "    else:\n",
    "        sorting_order = \"unsorted\"\n",
    "\n",
    "    return largest, smallest, average, median, sorting_order\n",
    "\n",
    "# Example usage\n",
    "user_numbers = [10, 5, 8, 15, 3]\n",
    "largest_num, smallest_num, avg, median_val, sort_order = analyze_list(user_numbers)\n",
    "\n",
    "print(f\"Largest number: {largest_num}\")\n",
    "print(f\"Smallest number: {smallest_num}\")\n",
    "print(f\"Average: {avg:.2f}\")\n",
    "print(f\"Median: {median_val:.2f}\")\n",
    "print(f\"Sorting order: {sort_order}\")\n"
   ]
  },
  {
   "cell_type": "markdown",
   "id": "dfcaa327-853b-4b36-98df-13ded576ac80",
   "metadata": {},
   "source": [
    "## check whether number is prime or not"
   ]
  },
  {
   "cell_type": "code",
   "execution_count": 7,
   "id": "a6cce6ce-0468-412b-adad-84be8ec619da",
   "metadata": {},
   "outputs": [
    {
     "name": "stdin",
     "output_type": "stream",
     "text": [
      "enter number you want to find out prime or not 88\n"
     ]
    },
    {
     "name": "stdout",
     "output_type": "stream",
     "text": [
      "False\n"
     ]
    }
   ],
   "source": [
    "def is_prime(number):\n",
    "    if number > 1:\n",
    "        for i in range(2, number):\n",
    "            if (number % i) == 0:\n",
    "                return False\n",
    "        return True\n",
    "    return False\n",
    "\n",
    "print(is_prime(int(input(\"enter number you want to find out prime or not\"))))  # Output: False\n"
   ]
  },
  {
   "cell_type": "code",
   "execution_count": 1,
   "id": "63e9a2a9-0d97-46e6-86fe-5164f10b2d67",
   "metadata": {},
   "outputs": [
    {
     "name": "stdin",
     "output_type": "stream",
     "text": [
      "Enter the number of elements:  2\n",
      " 2\n",
      " 2\n"
     ]
    },
    {
     "name": "stdout",
     "output_type": "stream",
     "text": [
      "[2, 2]\n"
     ]
    }
   ],
   "source": [
    "lst = []\n",
    "n = int(input(\"Enter the number of elements: \"))\n",
    "for i in range(n):\n",
    "    ele = int(input())\n",
    "    lst.append(ele)\n",
    "print(lst)\n"
   ]
  },
  {
   "cell_type": "code",
   "execution_count": 16,
   "id": "d41994de-545d-4eb8-bd2f-43e6bdc75530",
   "metadata": {},
   "outputs": [
    {
     "name": "stdin",
     "output_type": "stream",
     "text": [
      "enter number seprated by , : \n"
     ]
    },
    {
     "name": "stdout",
     "output_type": "stream",
     "text": [
      "['']\n"
     ]
    }
   ],
   "source": [
    "lt = []\n",
    "def num():\n",
    "    lt.append(input(\"enter number seprated by , :\"))\n",
    "    print(lt)\n",
    "num()"
   ]
  },
  {
   "cell_type": "code",
   "execution_count": 19,
   "id": "ffafec79-48f7-48fb-ba8b-5ee26545830c",
   "metadata": {},
   "outputs": [
    {
     "name": "stdin",
     "output_type": "stream",
     "text": [
      "enter number seprated by , : 1,3,4,1,5\n"
     ]
    },
    {
     "name": "stdout",
     "output_type": "stream",
     "text": [
      "['1,3,4,1,5']\n"
     ]
    }
   ],
   "source": [
    "ltl = []\n",
    "ltl.append(input(\"enter number seprated by , :\"))\n",
    "print(ltl)"
   ]
  },
  {
   "cell_type": "markdown",
   "id": "11cbf3e1-0017-49cf-a7a8-3ef9675f75a8",
   "metadata": {},
   "source": [
    "## code to check if word is Palindrome or not"
   ]
  },
  {
   "cell_type": "code",
   "execution_count": 24,
   "id": "65cb8fc0-0d3d-44e6-bb22-872fa50ed58b",
   "metadata": {},
   "outputs": [
    {
     "name": "stdin",
     "output_type": "stream",
     "text": [
      "sentence hhhsaa\n"
     ]
    },
    {
     "name": "stdout",
     "output_type": "stream",
     "text": [
      "not ok\n"
     ]
    }
   ],
   "source": [
    "abc = input(\"sentence\")\n",
    "if abc.lower() == abc[::-1]:\n",
    "    print(\"ok\")\n",
    "else:\n",
    "    print(\"not ok\")"
   ]
  },
  {
   "cell_type": "markdown",
   "id": "926430d2-983c-4fcf-bdb2-2ab8c8606965",
   "metadata": {},
   "source": [
    "## Write a function that takes a dictionary as input and:\n",
    "\n",
    "#### Returns a new dictionary with the keys and values reversed.\n",
    "#### Finds the key with the longest value."
   ]
  },
  {
   "cell_type": "code",
   "execution_count": 37,
   "id": "8ab30cad-80f6-44e7-993e-d2912d227325",
   "metadata": {},
   "outputs": [
    {
     "name": "stdout",
     "output_type": "stream",
     "text": [
      "Reversed dictionary: {3: 'apple', 5: 'banana', 7: 'cherry'}\n",
      "Key with the longest value: cherry\n"
     ]
    }
   ],
   "source": [
    "def reverse_dict(original_dict):\n",
    "    # Create a new dictionary with reversed keys and values\n",
    "    reversed_dict = {value: key for key, value in original_dict.items()}\n",
    "\n",
    "    # Find the key with the longest value\n",
    "    longest_key = max(original_dict.keys())\n",
    "\n",
    "    return reversed_dict, longest_key\n",
    "\n",
    "# Example usage\n",
    "my_dict = {\"apple\": 3, \"banana\": 5, \"cherry\": 7}\n",
    "reversed_result, longest_key_result = reverse_dict(my_dict)\n",
    "\n",
    "print(\"Reversed dictionary:\", reversed_result)\n",
    "print(\"Key with the longest value:\", longest_key_result)"
   ]
  },
  {
   "cell_type": "markdown",
   "id": "311b79b6-06e8-4c1b-bb9e-505926a02cf4",
   "metadata": {},
   "source": [
    "## Count Vowels: Write a Python function that counts the number of vowels in a given string."
   ]
  },
  {
   "cell_type": "code",
   "execution_count": 38,
   "id": "6abf940a-9110-41a4-9264-628e8e802760",
   "metadata": {},
   "outputs": [
    {
     "name": "stdin",
     "output_type": "stream",
     "text": [
      "Enter a string:  2bvsgga\n"
     ]
    },
    {
     "name": "stdout",
     "output_type": "stream",
     "text": [
      "Number of vowels: 1\n"
     ]
    }
   ],
   "source": [
    "def count_vowels(s):\n",
    "    vowels = \"aeiouAEIOU\"\n",
    "    count = 0\n",
    "    for char in s:\n",
    "        if char in vowels:\n",
    "            count += 1\n",
    "    return count\n",
    "\n",
    "user_string = input(\"Enter a string: \")\n",
    "print(\"Number of vowels:\", count_vowels(user_string))\n"
   ]
  },
  {
   "cell_type": "code",
   "execution_count": 1,
   "id": "94becf71-8054-449a-82ab-381a57f3d671",
   "metadata": {},
   "outputs": [
    {
     "name": "stdout",
     "output_type": "stream",
     "text": [
      "30\n"
     ]
    }
   ],
   "source": [
    "def calculate (num1, num2=4):\n",
    "  res = num1 * num2\n",
    "  print(res)\n",
    "\n",
    "calculate(5, 6)"
   ]
  },
  {
   "cell_type": "code",
   "execution_count": 6,
   "id": "d7ed2ca2-4046-4bf3-8ab4-7fc2a2f24d5c",
   "metadata": {},
   "outputs": [
    {
     "name": "stdout",
     "output_type": "stream",
     "text": [
      "{'Jodi', 'Vicki', 'Garry', 'Eric'}\n"
     ]
    }
   ],
   "source": [
    "sampleSet = {\"Jodi\", \"Eric\", \"Garry\"}\n",
    "sampleSet.add(\"Vicki\")\n",
    "print(sampleSet)"
   ]
  },
  {
   "cell_type": "code",
   "execution_count": 7,
   "id": "93c543eb-26a7-4ba2-853e-d37e5f1245dc",
   "metadata": {},
   "outputs": [
    {
     "name": "stdout",
     "output_type": "stream",
     "text": [
      "Salary: 12000\n",
      "Salary: 8000\n"
     ]
    }
   ],
   "source": [
    "salary = 8000\n",
    "\n",
    "def printSalary():\n",
    "  salary = 12000\n",
    "  print(\"Salary:\", salary)\n",
    "  \n",
    "printSalary()\n",
    "print(\"Salary:\", salary)"
   ]
  },
  {
   "cell_type": "code",
   "execution_count": 8,
   "id": "ffdda36a-2544-4c7a-ba31-68f98b09c9e6",
   "metadata": {},
   "outputs": [
    {
     "name": "stdout",
     "output_type": "stream",
     "text": [
      "5\n"
     ]
    }
   ],
   "source": [
    "print(5)"
   ]
  },
  {
   "cell_type": "code",
   "execution_count": 9,
   "id": "69ea93eb-3988-4791-9dc7-cd1673a15b7f",
   "metadata": {},
   "outputs": [
    {
     "name": "stdout",
     "output_type": "stream",
     "text": [
      "8\n",
      "13 21\n"
     ]
    }
   ],
   "source": [
    "print(8)\n",
    "print(13, end=\" \")\n",
    "print(21)"
   ]
  },
  {
   "cell_type": "code",
   "execution_count": 10,
   "id": "a92a63ca-9377-419a-9e93-8a3b5fdabffc",
   "metadata": {},
   "outputs": [
    {
     "name": "stdout",
     "output_type": "stream",
     "text": [
      "Hello\n",
      " World!\n"
     ]
    }
   ],
   "source": [
    "print(\"Hello\")\n",
    "print(\" World!\")"
   ]
  },
  {
   "cell_type": "code",
   "execution_count": 1,
   "id": "e45d549b-3f5e-4073-90d1-483010f7f5bd",
   "metadata": {},
   "outputs": [
    {
     "name": "stdout",
     "output_type": "stream",
     "text": [
      "[10, 20, 30, 40]\n",
      "[10, 20, 30, 40]\n"
     ]
    }
   ],
   "source": [
    "a = [10, 20]\n",
    "b = a\n",
    "b += [30, 40]\n",
    "print(a)\n",
    "print(b)"
   ]
  },
  {
   "cell_type": "code",
   "execution_count": 4,
   "id": "554130ce-a822-4dd4-9529-3834ecd145d6",
   "metadata": {},
   "outputs": [
    {
     "name": "stdout",
     "output_type": "stream",
     "text": [
      "-5\n",
      "2\n"
     ]
    }
   ],
   "source": [
    "print(-18 // 4)\n",
    "print(2%6)"
   ]
  }
 ],
 "metadata": {
  "kernelspec": {
   "display_name": "Python 3 (ipykernel)",
   "language": "python",
   "name": "python3"
  },
  "language_info": {
   "codemirror_mode": {
    "name": "ipython",
    "version": 3
   },
   "file_extension": ".py",
   "mimetype": "text/x-python",
   "name": "python",
   "nbconvert_exporter": "python",
   "pygments_lexer": "ipython3",
   "version": "3.12.4"
  }
 },
 "nbformat": 4,
 "nbformat_minor": 5
}
