{
 "cells": [
  {
   "cell_type": "code",
   "execution_count": 1,
   "id": "57a6527f-8ac7-4db8-90dd-d5d54ec19cdd",
   "metadata": {},
   "outputs": [
    {
     "data": {
      "text/plain": [
       "['-2', '0', '1', '3', '33', '34']"
      ]
     },
     "execution_count": 1,
     "metadata": {},
     "output_type": "execute_result"
    }
   ],
   "source": [
    "a = ['3','34','33','0','1','-2']\n",
    "a.sort()\n",
    "a"
   ]
  },
  {
   "cell_type": "code",
   "execution_count": 3,
   "id": "3f2662c1-1c88-4920-a6ec-a47d803de42d",
   "metadata": {},
   "outputs": [
    {
     "name": "stdout",
     "output_type": "stream",
     "text": [
      "Original list: [1, 2, 3, 4, 5]\n",
      "Copied list: [1, 2, 3, 4, 5]\n",
      "Modified copied list: []\n",
      "Original list after modifying copied list: [1, 2, 3, 4, 5]\n"
     ]
    }
   ],
   "source": [
    "original_list = [1, 2, 3, 4, 5]\n",
    "copied_list = original_list.copy()\n",
    "\n",
    "print(\"Original list:\", original_list)\n",
    "print(\"Copied list:\", copied_list)\n",
    "\n",
    "copied_list.clear()\n",
    "print(\"Modified copied list:\", copied_list)\n",
    "print(\"Original list after modifying copied list:\", original_list)\n"
   ]
  },
  {
   "cell_type": "code",
   "execution_count": 4,
   "id": "f98666bf-4a8a-4be5-8131-55b6b2eee251",
   "metadata": {},
   "outputs": [
    {
     "name": "stdout",
     "output_type": "stream",
     "text": [
      "The number of times 'apple' appears in the list is: 3\n",
      "The number of times 'banana' appears in the list is: 2\n"
     ]
    }
   ],
   "source": [
    "# Creating a list of fruits\n",
    "fruits = [\"apple\", \"banana\", \"cherry\", \"apple\", \"banana\", \"apple\"]\n",
    "\n",
    "# Counting the occurrences of 'apple' in the list\n",
    "apple_count = fruits.count(\"apple\")\n",
    "\n",
    "# Printing the count\n",
    "print(\"The number of times 'apple' appears in the list is:\", apple_count)\n",
    "\n",
    "# Counting the occurrences of 'banana' in the list\n",
    "banana_count = fruits.count(\"banana\")\n",
    "\n",
    "# Printing the count\n",
    "print(\"The number of times 'banana' appears in the list is:\", banana_count)\n"
   ]
  }
 ],
 "metadata": {
  "kernelspec": {
   "display_name": "Python 3 (ipykernel)",
   "language": "python",
   "name": "python3"
  },
  "language_info": {
   "codemirror_mode": {
    "name": "ipython",
    "version": 3
   },
   "file_extension": ".py",
   "mimetype": "text/x-python",
   "name": "python",
   "nbconvert_exporter": "python",
   "pygments_lexer": "ipython3",
   "version": "3.12.4"
  }
 },
 "nbformat": 4,
 "nbformat_minor": 5
}
