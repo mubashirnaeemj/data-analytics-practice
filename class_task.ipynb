{
 "cells": [
  {
   "cell_type": "code",
   "execution_count": 8,
   "id": "fe9956e1-4837-4812-b623-45dc4b93d6e1",
   "metadata": {},
   "outputs": [
    {
     "name": "stdout",
     "output_type": "stream",
     "text": [
      "3\n"
     ]
    }
   ],
   "source": [
    "def max_num():\n",
    "    num1 = [\"1\",\"3\",\"2\"]\n",
    "    num1.sort()\n",
    "    print(num1.pop())\n",
    "max_num()"
   ]
  },
  {
   "cell_type": "code",
   "execution_count": 1,
   "id": "b2e334ed-6d38-4903-b294-c1a6f18e8c12",
   "metadata": {},
   "outputs": [
    {
     "name": "stdout",
     "output_type": "stream",
     "text": [
      "The largest value is: 8\n"
     ]
    }
   ],
   "source": [
    "def find_largest_value(numbers):\n",
    "    largest = numbers[0]\n",
    "    for num in numbers:\n",
    "        if num > largest:\n",
    "            largest = num\n",
    "    return largest\n",
    "\n",
    "# Example usage\n",
    "numbers = [3, 5, 7, 2, 8, 1]\n",
    "print(\"The largest value is:\", find_largest_value(numbers))\n"
   ]
  },
  {
   "cell_type": "code",
   "execution_count": 9,
   "id": "69113b0a-03b4-44ec-905d-9230258311aa",
   "metadata": {},
   "outputs": [
    {
     "data": {
      "text/plain": [
       "132"
      ]
     },
     "execution_count": 9,
     "metadata": {},
     "output_type": "execute_result"
    }
   ],
   "source": [
    "def fun(num1,num2):\n",
    "    aa = num1 * num2\n",
    "    return aa\n",
    "fun(3, 44)"
   ]
  }
 ],
 "metadata": {
  "kernelspec": {
   "display_name": "Python 3 (ipykernel)",
   "language": "python",
   "name": "python3"
  },
  "language_info": {
   "codemirror_mode": {
    "name": "ipython",
    "version": 3
   },
   "file_extension": ".py",
   "mimetype": "text/x-python",
   "name": "python",
   "nbconvert_exporter": "python",
   "pygments_lexer": "ipython3",
   "version": "3.12.4"
  }
 },
 "nbformat": 4,
 "nbformat_minor": 5
}
