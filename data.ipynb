{
 "cells": [
  {
   "cell_type": "code",
   "execution_count": 3,
   "id": "f79ce010-cda4-42e7-8e53-37549ab5cb42",
   "metadata": {},
   "outputs": [
    {
     "name": "stdout",
     "output_type": "stream",
     "text": [
      "Averages and percentage added and saved to 'students_with_averages.csv'\n"
     ]
    }
   ],
   "source": [
    "import csv\n",
    "\n",
    "# Read the data from the CSV file\n",
    "file = open('student data.csv', mode='r')\n",
    "reader = csv.reader(file)\n",
    "data = list(reader)\n",
    "\n",
    "# Extract the headers and the student data\n",
    "headers = data[0]\n",
    "students = data[1:]\n",
    "\n",
    "# adding string \"percentage\" in the last of header \n",
    "headers.append('Percentage')\n",
    "\n",
    "# calculate percentage of student in all subject\n",
    "for per in students:\n",
    "    chem = int(per[2])\n",
    "    phy = int(per[3])\n",
    "    math = int(per[4])\n",
    "    percentage = round((chem+phy+math)/300*100,1)\n",
    "    per.append(percentage)\n",
    "    \n",
    "# Initialize sums and counts for each subject\n",
    "chemistry_sum = 0\n",
    "physics_sum = 0\n",
    "math_sum = 0\n",
    "count = len(students)\n",
    "\n",
    "# calculate all subject sum\n",
    "for student in students:\n",
    "    chemistry_sum += int(student[2])\n",
    "    physics_sum += int(student[3])\n",
    "    math_sum += int(student[4])\n",
    "\n",
    "# for average \n",
    "chemistry_avg = chemistry_sum / count\n",
    "physics_avg = physics_sum / count\n",
    "math_avg = math_sum / count\n",
    "\n",
    "# Append the averages to the data\n",
    "students.append(['', 'Average', chemistry_avg, physics_avg, math_avg, ''])\n",
    "\n",
    "# Write the updated data back to the CSV file\n",
    "file = open('students_with_averages.csv', mode='w', newline='')\n",
    "writer = csv.writer(file)\n",
    "writer.writerow(headers)\n",
    "writer.writerows(students)\n",
    "file.close()\n",
    "print(\"Averages and percentage added and saved to 'students_with_averages.csv'\")\n"
   ]
  }
 ],
 "metadata": {
  "kernelspec": {
   "display_name": "Python 3 (ipykernel)",
   "language": "python",
   "name": "python3"
  },
  "language_info": {
   "codemirror_mode": {
    "name": "ipython",
    "version": 3
   },
   "file_extension": ".py",
   "mimetype": "text/x-python",
   "name": "python",
   "nbconvert_exporter": "python",
   "pygments_lexer": "ipython3",
   "version": "3.12.4"
  }
 },
 "nbformat": 4,
 "nbformat_minor": 5
}
